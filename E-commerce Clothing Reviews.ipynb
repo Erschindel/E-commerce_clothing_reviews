{
 "cells": [
  {
   "cell_type": "markdown",
   "metadata": {},
   "source": [
    "# Clothing reviews"
   ]
  },
  {
   "cell_type": "markdown",
   "metadata": {},
   "source": [
    "### Ideas:\n",
    "\n",
    "- Are there common themes in the positive/negative reviews?\n",
    "- Can we find out which products/departments are doing relatively well or poorly?"
   ]
  },
  {
   "cell_type": "markdown",
   "metadata": {},
   "source": [
    "### Approach:\n",
    "- A random forest classifier is used on the vectorized review texts of the positive and negative reviews that had at least 5 \"thumbs-up\" (positive_feedback_count > 5). T-testing on the feature importances of the words helped to sort the resultant word lists into significant words."
   ]
  },
  {
   "cell_type": "markdown",
   "metadata": {},
   "source": [
    "### Data:\n",
    "https://www.kaggle.com/nicapotato/womens-ecommerce-clothing-reviews?select=Womens+Clothing+E-Commerce+Reviews.csv"
   ]
  },
  {
   "cell_type": "code",
   "execution_count": 1,
   "metadata": {},
   "outputs": [],
   "source": [
    "import pandas as pd\n",
    "import matplotlib.pyplot as plt\n",
    "import seaborn as sns\n",
    "%matplotlib inline\n",
    "\n",
    "sns.set()"
   ]
  },
  {
   "cell_type": "code",
   "execution_count": 2,
   "metadata": {},
   "outputs": [
    {
     "data": {
      "text/html": [
       "<div>\n",
       "<style scoped>\n",
       "    .dataframe tbody tr th:only-of-type {\n",
       "        vertical-align: middle;\n",
       "    }\n",
       "\n",
       "    .dataframe tbody tr th {\n",
       "        vertical-align: top;\n",
       "    }\n",
       "\n",
       "    .dataframe thead th {\n",
       "        text-align: right;\n",
       "    }\n",
       "</style>\n",
       "<table border=\"1\" class=\"dataframe\">\n",
       "  <thead>\n",
       "    <tr style=\"text-align: right;\">\n",
       "      <th></th>\n",
       "      <th>clothing_id</th>\n",
       "      <th>age</th>\n",
       "      <th>title</th>\n",
       "      <th>review_text</th>\n",
       "      <th>rating</th>\n",
       "      <th>recommended_ind</th>\n",
       "      <th>positive_feedback_count</th>\n",
       "      <th>division_name</th>\n",
       "      <th>department_name</th>\n",
       "      <th>class_name</th>\n",
       "    </tr>\n",
       "  </thead>\n",
       "  <tbody>\n",
       "    <tr>\n",
       "      <th>0</th>\n",
       "      <td>767</td>\n",
       "      <td>33</td>\n",
       "      <td>NaN</td>\n",
       "      <td>Absolutely wonderful - silky and sexy and comf...</td>\n",
       "      <td>4</td>\n",
       "      <td>1</td>\n",
       "      <td>0</td>\n",
       "      <td>Initmates</td>\n",
       "      <td>Intimate</td>\n",
       "      <td>Intimates</td>\n",
       "    </tr>\n",
       "    <tr>\n",
       "      <th>1</th>\n",
       "      <td>1080</td>\n",
       "      <td>34</td>\n",
       "      <td>NaN</td>\n",
       "      <td>Love this dress!  it's sooo pretty.  i happene...</td>\n",
       "      <td>5</td>\n",
       "      <td>1</td>\n",
       "      <td>4</td>\n",
       "      <td>General</td>\n",
       "      <td>Dresses</td>\n",
       "      <td>Dresses</td>\n",
       "    </tr>\n",
       "    <tr>\n",
       "      <th>2</th>\n",
       "      <td>1077</td>\n",
       "      <td>60</td>\n",
       "      <td>Some major design flaws</td>\n",
       "      <td>I had such high hopes for this dress and reall...</td>\n",
       "      <td>3</td>\n",
       "      <td>0</td>\n",
       "      <td>0</td>\n",
       "      <td>General</td>\n",
       "      <td>Dresses</td>\n",
       "      <td>Dresses</td>\n",
       "    </tr>\n",
       "    <tr>\n",
       "      <th>3</th>\n",
       "      <td>1049</td>\n",
       "      <td>50</td>\n",
       "      <td>My favorite buy!</td>\n",
       "      <td>I love, love, love this jumpsuit. it's fun, fl...</td>\n",
       "      <td>5</td>\n",
       "      <td>1</td>\n",
       "      <td>0</td>\n",
       "      <td>General Petite</td>\n",
       "      <td>Bottoms</td>\n",
       "      <td>Pants</td>\n",
       "    </tr>\n",
       "    <tr>\n",
       "      <th>4</th>\n",
       "      <td>847</td>\n",
       "      <td>47</td>\n",
       "      <td>Flattering shirt</td>\n",
       "      <td>This shirt is very flattering to all due to th...</td>\n",
       "      <td>5</td>\n",
       "      <td>1</td>\n",
       "      <td>6</td>\n",
       "      <td>General</td>\n",
       "      <td>Tops</td>\n",
       "      <td>Blouses</td>\n",
       "    </tr>\n",
       "  </tbody>\n",
       "</table>\n",
       "</div>"
      ],
      "text/plain": [
       "   clothing_id  age                    title  \\\n",
       "0          767   33                      NaN   \n",
       "1         1080   34                      NaN   \n",
       "2         1077   60  Some major design flaws   \n",
       "3         1049   50         My favorite buy!   \n",
       "4          847   47         Flattering shirt   \n",
       "\n",
       "                                         review_text  rating  recommended_ind  \\\n",
       "0  Absolutely wonderful - silky and sexy and comf...       4                1   \n",
       "1  Love this dress!  it's sooo pretty.  i happene...       5                1   \n",
       "2  I had such high hopes for this dress and reall...       3                0   \n",
       "3  I love, love, love this jumpsuit. it's fun, fl...       5                1   \n",
       "4  This shirt is very flattering to all due to th...       5                1   \n",
       "\n",
       "   positive_feedback_count   division_name department_name class_name  \n",
       "0                        0       Initmates        Intimate  Intimates  \n",
       "1                        4         General         Dresses    Dresses  \n",
       "2                        0         General         Dresses    Dresses  \n",
       "3                        0  General Petite         Bottoms      Pants  \n",
       "4                        6         General            Tops    Blouses  "
      ]
     },
     "execution_count": 2,
     "metadata": {},
     "output_type": "execute_result"
    }
   ],
   "source": [
    "df = pd.read_csv(\"data/Womens Clothing E-Commerce Reviews.csv\").iloc[:,1:]\n",
    "df.columns = [i.lower().replace(' ', '_') for i in df.columns]\n",
    "df.head()"
   ]
  },
  {
   "cell_type": "code",
   "execution_count": 3,
   "metadata": {},
   "outputs": [
    {
     "data": {
      "text/plain": [
       "division_name   department_name  class_name    \n",
       "General         Bottoms          Casual bottoms       2\n",
       "                                 Jeans              787\n",
       "                                 Pants              835\n",
       "                                 Shorts             317\n",
       "                                 Skirts             601\n",
       "                Dresses          Dresses           3730\n",
       "                Jackets          Jackets            397\n",
       "                                 Outerwear          248\n",
       "                Tops             Blouses           1993\n",
       "                                 Fine gauge         685\n",
       "                                 Knits             3259\n",
       "                                 Sweaters           900\n",
       "                Trend            Trend               96\n",
       "General Petite  Bottoms          Jeans              360\n",
       "                                 Pants              553\n",
       "                                 Skirts             344\n",
       "                Dresses          Dresses           2589\n",
       "                Intimate         Lounge             233\n",
       "                Jackets          Jackets            307\n",
       "                                 Outerwear           80\n",
       "                Tops             Blouses           1104\n",
       "                                 Fine gauge         415\n",
       "                                 Knits             1584\n",
       "                                 Sweaters           528\n",
       "                Trend            Trend               23\n",
       "Initmates       Intimate         Chemises             1\n",
       "                                 Intimates          154\n",
       "                                 Layering           146\n",
       "                                 Legwear            165\n",
       "                                 Lounge             458\n",
       "                                 Sleep              228\n",
       "                                 Swim               350\n",
       "Name: age, dtype: int64"
      ]
     },
     "execution_count": 3,
     "metadata": {},
     "output_type": "execute_result"
    }
   ],
   "source": [
    "df.groupby(['division_name', 'department_name', 'class_name']).count().age"
   ]
  },
  {
   "cell_type": "code",
   "execution_count": 4,
   "metadata": {},
   "outputs": [
    {
     "data": {
      "text/plain": [
       "Int64Index([1078,  862, 1094, 1081,  872,  829, 1110,  868,  895,  936,  867,\n",
       "             850, 1095,  863, 1077, 1059, 1086, 1080,  860, 1083,  861,  873,\n",
       "             828, 1092, 1033],\n",
       "           dtype='int64', name='clothing_id')"
      ]
     },
     "execution_count": 4,
     "metadata": {},
     "output_type": "execute_result"
    }
   ],
   "source": [
    "top_index = (df.groupby('clothing_id').count().age.sort_values(ascending = False)/df.shape[0]).head(25).index\n",
    "top_index"
   ]
  },
  {
   "cell_type": "code",
   "execution_count": 5,
   "metadata": {},
   "outputs": [],
   "source": [
    "top_25_df = df[df.clothing_id.isin(top_index)]"
   ]
  },
  {
   "cell_type": "code",
   "execution_count": 6,
   "metadata": {},
   "outputs": [
    {
     "data": {
      "text/plain": [
       "<seaborn.axisgrid.FacetGrid at 0x225de1ed8b0>"
      ]
     },
     "execution_count": 6,
     "metadata": {},
     "output_type": "execute_result"
    },
    {
     "data": {
      "image/png": "[encoded data removed]",
      "text/plain": [
       "<Figure size 720x360 with 1 Axes>"
      ]
     },
     "metadata": {},
     "output_type": "display_data"
    }
   ],
   "source": [
    "sns.catplot(data=top_25_df, x = 'class_name', y = 'age', kind = 'box',\n",
    "           height = 5, aspect = 2)"
   ]
  },
  {
   "cell_type": "code",
   "execution_count": 7,
   "metadata": {},
   "outputs": [
    {
     "data": {
      "text/plain": [
       "<seaborn.axisgrid.FacetGrid at 0x225c3a3d820>"
      ]
     },
     "execution_count": 7,
     "metadata": {},
     "output_type": "execute_result"
    },
    {
     "data": {
      "image/png": "[encoded data removed]",
      "text/plain": [
       "<Figure size 720x360 with 1 Axes>"
      ]
     },
     "metadata": {},
     "output_type": "display_data"
    }
   ],
   "source": [
    "sns.catplot(data=top_25_df, x = 'department_name', y = 'age', kind = 'box',\n",
    "           height = 5, aspect = 2)"
   ]
  },
  {
   "cell_type": "code",
   "execution_count": 8,
   "metadata": {},
   "outputs": [
    {
     "data": {
      "text/plain": [
       "rating\n",
       "1    0.035851\n",
       "2    0.066635\n",
       "3    0.122243\n",
       "4    0.216171\n",
       "5    0.559099\n",
       "Name: clothing_id, dtype: float64"
      ]
     },
     "execution_count": 8,
     "metadata": {},
     "output_type": "execute_result"
    }
   ],
   "source": [
    "df.groupby('rating').count().clothing_id/df.shape[0]"
   ]
  },
  {
   "cell_type": "code",
   "execution_count": 9,
   "metadata": {},
   "outputs": [
    {
     "data": {
      "text/plain": [
       "recommended_ind\n",
       "0    0.177638\n",
       "1    0.822362\n",
       "Name: clothing_id, dtype: float64"
      ]
     },
     "execution_count": 9,
     "metadata": {},
     "output_type": "execute_result"
    }
   ],
   "source": [
    "df.groupby('recommended_ind').count().clothing_id/df.shape[0]"
   ]
  },
  {
   "cell_type": "code",
   "execution_count": 10,
   "metadata": {},
   "outputs": [
    {
     "data": {
      "text/plain": [
       "<matplotlib.axes._subplots.AxesSubplot at 0x225c3ae1040>"
      ]
     },
     "execution_count": 10,
     "metadata": {},
     "output_type": "execute_result"
    },
    {
     "data": {
      "image/png": "[encoded data removed]",
      "text/plain": [
       "<Figure size 864x576 with 1 Axes>"
      ]
     },
     "metadata": {},
     "output_type": "display_data"
    }
   ],
   "source": [
    "plt.figure(figsize = (12,8))\n",
    "df.groupby('age').mean().rating.plot(kind = 'bar')"
   ]
  },
  {
   "cell_type": "code",
   "execution_count": 11,
   "metadata": {},
   "outputs": [
    {
     "data": {
      "text/plain": [
       "<matplotlib.axes._subplots.AxesSubplot at 0x225c4ed0eb0>"
      ]
     },
     "execution_count": 11,
     "metadata": {},
     "output_type": "execute_result"
    },
    {
     "data": {
      "image/png": "[encoded data removed]",
      "text/plain": [
       "<Figure size 864x576 with 1 Axes>"
      ]
     },
     "metadata": {},
     "output_type": "display_data"
    }
   ],
   "source": [
    "plt.figure(figsize = (12,8))\n",
    "df.groupby('age').count().rating.plot(kind = 'bar')"
   ]
  },
  {
   "cell_type": "code",
   "execution_count": null,
   "metadata": {},
   "outputs": [],
   "source": []
  },
  {
   "cell_type": "markdown",
   "metadata": {},
   "source": [
    "- Most ratings are 4 or higher (77.5%)\n",
    "- Most reviews are between 31 and 46 years old\n",
    "- Ratings don't change according to age\n",
    "- Ratings are not changing by categories"
   ]
  },
  {
   "cell_type": "code",
   "execution_count": 12,
   "metadata": {},
   "outputs": [
    {
     "data": {
      "text/plain": [
       "(0.0, 50.0)"
      ]
     },
     "execution_count": 12,
     "metadata": {},
     "output_type": "execute_result"
    },
    {
     "data": {
      "image/png": "[encoded data removed]",
      "text/plain": [
       "<Figure size 864x576 with 1 Axes>"
      ]
     },
     "metadata": {},
     "output_type": "display_data"
    }
   ],
   "source": [
    "plt.figure(figsize = (12,8))\n",
    "\n",
    "(df.groupby('clothing_id').count().age.sort_values(ascending = False)/df.shape[0]).plot(kind = 'bar')\n",
    "\n",
    "plt.xlim([0,50])"
   ]
  },
  {
   "cell_type": "code",
   "execution_count": 13,
   "metadata": {},
   "outputs": [
    {
     "data": {
      "text/plain": [
       "1206"
      ]
     },
     "execution_count": 13,
     "metadata": {},
     "output_type": "execute_result"
    }
   ],
   "source": [
    "df.clothing_id.nunique()"
   ]
  },
  {
   "cell_type": "code",
   "execution_count": 14,
   "metadata": {},
   "outputs": [
    {
     "data": {
      "text/plain": [
       "0.42957506599676404"
      ]
     },
     "execution_count": 14,
     "metadata": {},
     "output_type": "execute_result"
    }
   ],
   "source": [
    "(df.groupby('clothing_id').count().age.sort_values(ascending = False)/df.shape[0]).head(25).sum()"
   ]
  },
  {
   "cell_type": "code",
   "execution_count": null,
   "metadata": {},
   "outputs": [],
   "source": []
  },
  {
   "cell_type": "markdown",
   "metadata": {},
   "source": [
    "- the top 25 products comprise 43% of all reviews"
   ]
  },
  {
   "cell_type": "code",
   "execution_count": 15,
   "metadata": {},
   "outputs": [
    {
     "data": {
      "text/plain": [
       "<seaborn.axisgrid.FacetGrid at 0x225c51e4520>"
      ]
     },
     "execution_count": 15,
     "metadata": {},
     "output_type": "execute_result"
    },
    {
     "data": {
      "image/png": "[encoded data removed]",
      "text/plain": [
       "<Figure size 720x360 with 1 Axes>"
      ]
     },
     "metadata": {},
     "output_type": "display_data"
    }
   ],
   "source": [
    "sns.catplot(data=top_25_df, x = 'clothing_id', y = 'rating', kind = 'box',\n",
    "           height = 5, aspect = 2)"
   ]
  },
  {
   "cell_type": "code",
   "execution_count": 16,
   "metadata": {},
   "outputs": [
    {
     "data": {
      "text/plain": [
       "<matplotlib.axes._subplots.AxesSubplot at 0x225c5d12760>"
      ]
     },
     "execution_count": 16,
     "metadata": {},
     "output_type": "execute_result"
    },
    {
     "data": {
      "image/png": "[encoded data removed]",
      "text/plain": [
       "<Figure size 432x288 with 1 Axes>"
      ]
     },
     "metadata": {},
     "output_type": "display_data"
    }
   ],
   "source": [
    "top_25_df.groupby('clothing_id').mean().rating.sort_values().plot(kind = 'bar')"
   ]
  },
  {
   "cell_type": "code",
   "execution_count": 17,
   "metadata": {},
   "outputs": [
    {
     "name": "stdout",
     "output_type": "stream",
     "text": [
      "288\n"
     ]
    },
    {
     "data": {
      "text/html": [
       "<div>\n",
       "<style scoped>\n",
       "    .dataframe tbody tr th:only-of-type {\n",
       "        vertical-align: middle;\n",
       "    }\n",
       "\n",
       "    .dataframe tbody tr th {\n",
       "        vertical-align: top;\n",
       "    }\n",
       "\n",
       "    .dataframe thead th {\n",
       "        text-align: right;\n",
       "    }\n",
       "</style>\n",
       "<table border=\"1\" class=\"dataframe\">\n",
       "  <thead>\n",
       "    <tr style=\"text-align: right;\">\n",
       "      <th></th>\n",
       "      <th>clothing_id</th>\n",
       "      <th>age</th>\n",
       "      <th>title</th>\n",
       "      <th>review_text</th>\n",
       "      <th>rating</th>\n",
       "      <th>recommended_ind</th>\n",
       "      <th>positive_feedback_count</th>\n",
       "      <th>division_name</th>\n",
       "      <th>department_name</th>\n",
       "      <th>class_name</th>\n",
       "    </tr>\n",
       "  </thead>\n",
       "  <tbody>\n",
       "    <tr>\n",
       "      <th>1369</th>\n",
       "      <td>860</td>\n",
       "      <td>40</td>\n",
       "      <td>Unflattering</td>\n",
       "      <td>It's short and wide. not a good combo for anyo...</td>\n",
       "      <td>1</td>\n",
       "      <td>0</td>\n",
       "      <td>7</td>\n",
       "      <td>General</td>\n",
       "      <td>Tops</td>\n",
       "      <td>Knits</td>\n",
       "    </tr>\n",
       "    <tr>\n",
       "      <th>1474</th>\n",
       "      <td>860</td>\n",
       "      <td>45</td>\n",
       "      <td>NaN</td>\n",
       "      <td>Saw this on the sale rack and decided to try o...</td>\n",
       "      <td>1</td>\n",
       "      <td>0</td>\n",
       "      <td>2</td>\n",
       "      <td>General</td>\n",
       "      <td>Tops</td>\n",
       "      <td>Knits</td>\n",
       "    </tr>\n",
       "    <tr>\n",
       "      <th>1496</th>\n",
       "      <td>860</td>\n",
       "      <td>51</td>\n",
       "      <td>I wanted to like this...</td>\n",
       "      <td>I wanted to like this top so so so so badly. s...</td>\n",
       "      <td>1</td>\n",
       "      <td>0</td>\n",
       "      <td>0</td>\n",
       "      <td>General</td>\n",
       "      <td>Tops</td>\n",
       "      <td>Knits</td>\n",
       "    </tr>\n",
       "    <tr>\n",
       "      <th>6952</th>\n",
       "      <td>860</td>\n",
       "      <td>55</td>\n",
       "      <td>Too big</td>\n",
       "      <td>The shirt is very big. it would be cute as a m...</td>\n",
       "      <td>1</td>\n",
       "      <td>0</td>\n",
       "      <td>1</td>\n",
       "      <td>General</td>\n",
       "      <td>Tops</td>\n",
       "      <td>Knits</td>\n",
       "    </tr>\n",
       "    <tr>\n",
       "      <th>9507</th>\n",
       "      <td>860</td>\n",
       "      <td>62</td>\n",
       "      <td>Disappointed!</td>\n",
       "      <td>The tank looks nothing like the one pictured, ...</td>\n",
       "      <td>1</td>\n",
       "      <td>0</td>\n",
       "      <td>4</td>\n",
       "      <td>General</td>\n",
       "      <td>Tops</td>\n",
       "      <td>Knits</td>\n",
       "    </tr>\n",
       "    <tr>\n",
       "      <th>9892</th>\n",
       "      <td>860</td>\n",
       "      <td>70</td>\n",
       "      <td>Not a wow</td>\n",
       "      <td>I bought the bronze color which was nice but t...</td>\n",
       "      <td>1</td>\n",
       "      <td>0</td>\n",
       "      <td>0</td>\n",
       "      <td>General Petite</td>\n",
       "      <td>Tops</td>\n",
       "      <td>Knits</td>\n",
       "    </tr>\n",
       "    <tr>\n",
       "      <th>14772</th>\n",
       "      <td>860</td>\n",
       "      <td>63</td>\n",
       "      <td>NaN</td>\n",
       "      <td>NaN</td>\n",
       "      <td>1</td>\n",
       "      <td>0</td>\n",
       "      <td>0</td>\n",
       "      <td>General Petite</td>\n",
       "      <td>Tops</td>\n",
       "      <td>Knits</td>\n",
       "    </tr>\n",
       "    <tr>\n",
       "      <th>20598</th>\n",
       "      <td>860</td>\n",
       "      <td>32</td>\n",
       "      <td>Ugly design</td>\n",
       "      <td>So i bought this, even after seeing the other ...</td>\n",
       "      <td>1</td>\n",
       "      <td>0</td>\n",
       "      <td>2</td>\n",
       "      <td>General</td>\n",
       "      <td>Tops</td>\n",
       "      <td>Knits</td>\n",
       "    </tr>\n",
       "  </tbody>\n",
       "</table>\n",
       "</div>"
      ],
      "text/plain": [
       "       clothing_id  age                     title  \\\n",
       "1369           860   40              Unflattering   \n",
       "1474           860   45                       NaN   \n",
       "1496           860   51  I wanted to like this...   \n",
       "6952           860   55                   Too big   \n",
       "9507           860   62             Disappointed!   \n",
       "9892           860   70                 Not a wow   \n",
       "14772          860   63                       NaN   \n",
       "20598          860   32               Ugly design   \n",
       "\n",
       "                                             review_text  rating  \\\n",
       "1369   It's short and wide. not a good combo for anyo...       1   \n",
       "1474   Saw this on the sale rack and decided to try o...       1   \n",
       "1496   I wanted to like this top so so so so badly. s...       1   \n",
       "6952   The shirt is very big. it would be cute as a m...       1   \n",
       "9507   The tank looks nothing like the one pictured, ...       1   \n",
       "9892   I bought the bronze color which was nice but t...       1   \n",
       "14772                                                NaN       1   \n",
       "20598  So i bought this, even after seeing the other ...       1   \n",
       "\n",
       "       recommended_ind  positive_feedback_count   division_name  \\\n",
       "1369                 0                        7         General   \n",
       "1474                 0                        2         General   \n",
       "1496                 0                        0         General   \n",
       "6952                 0                        1         General   \n",
       "9507                 0                        4         General   \n",
       "9892                 0                        0  General Petite   \n",
       "14772                0                        0  General Petite   \n",
       "20598                0                        2         General   \n",
       "\n",
       "      department_name class_name  \n",
       "1369             Tops      Knits  \n",
       "1474             Tops      Knits  \n",
       "1496             Tops      Knits  \n",
       "6952             Tops      Knits  \n",
       "9507             Tops      Knits  \n",
       "9892             Tops      Knits  \n",
       "14772            Tops      Knits  \n",
       "20598            Tops      Knits  "
      ]
     },
     "execution_count": 17,
     "metadata": {},
     "output_type": "execute_result"
    }
   ],
   "source": [
    "print(df[(df.clothing_id == 860)].shape[0])\n",
    "\n",
    "df[(df.clothing_id == 860) & (df.rating == 1)]"
   ]
  },
  {
   "cell_type": "code",
   "execution_count": 18,
   "metadata": {},
   "outputs": [
    {
     "name": "stdout",
     "output_type": "stream",
     "text": [
      "225\n"
     ]
    },
    {
     "data": {
      "text/html": [
       "<div>\n",
       "<style scoped>\n",
       "    .dataframe tbody tr th:only-of-type {\n",
       "        vertical-align: middle;\n",
       "    }\n",
       "\n",
       "    .dataframe tbody tr th {\n",
       "        vertical-align: top;\n",
       "    }\n",
       "\n",
       "    .dataframe thead th {\n",
       "        text-align: right;\n",
       "    }\n",
       "</style>\n",
       "<table border=\"1\" class=\"dataframe\">\n",
       "  <thead>\n",
       "    <tr style=\"text-align: right;\">\n",
       "      <th></th>\n",
       "      <th>clothing_id</th>\n",
       "      <th>age</th>\n",
       "      <th>title</th>\n",
       "      <th>review_text</th>\n",
       "      <th>rating</th>\n",
       "      <th>recommended_ind</th>\n",
       "      <th>positive_feedback_count</th>\n",
       "      <th>division_name</th>\n",
       "      <th>department_name</th>\n",
       "      <th>class_name</th>\n",
       "    </tr>\n",
       "  </thead>\n",
       "  <tbody>\n",
       "    <tr>\n",
       "      <th>3820</th>\n",
       "      <td>828</td>\n",
       "      <td>83</td>\n",
       "      <td>So wanted to love.....</td>\n",
       "      <td>I saw this top online and ordered immediately!...</td>\n",
       "      <td>1</td>\n",
       "      <td>0</td>\n",
       "      <td>16</td>\n",
       "      <td>General</td>\n",
       "      <td>Tops</td>\n",
       "      <td>Blouses</td>\n",
       "    </tr>\n",
       "    <tr>\n",
       "      <th>6070</th>\n",
       "      <td>828</td>\n",
       "      <td>46</td>\n",
       "      <td>Test like fit</td>\n",
       "      <td>This shirt was tent like on me and there was r...</td>\n",
       "      <td>1</td>\n",
       "      <td>0</td>\n",
       "      <td>0</td>\n",
       "      <td>General</td>\n",
       "      <td>Tops</td>\n",
       "      <td>Blouses</td>\n",
       "    </tr>\n",
       "    <tr>\n",
       "      <th>6108</th>\n",
       "      <td>828</td>\n",
       "      <td>52</td>\n",
       "      <td>Fabric looks cheap</td>\n",
       "      <td>I returned this item. it was soft. very blah f...</td>\n",
       "      <td>1</td>\n",
       "      <td>0</td>\n",
       "      <td>0</td>\n",
       "      <td>General</td>\n",
       "      <td>Tops</td>\n",
       "      <td>Blouses</td>\n",
       "    </tr>\n",
       "    <tr>\n",
       "      <th>6599</th>\n",
       "      <td>828</td>\n",
       "      <td>46</td>\n",
       "      <td>Oversized and unstructured but soft</td>\n",
       "      <td>I tried this shirt in a small (my usual retail...</td>\n",
       "      <td>1</td>\n",
       "      <td>0</td>\n",
       "      <td>4</td>\n",
       "      <td>General Petite</td>\n",
       "      <td>Tops</td>\n",
       "      <td>Blouses</td>\n",
       "    </tr>\n",
       "    <tr>\n",
       "      <th>16464</th>\n",
       "      <td>828</td>\n",
       "      <td>73</td>\n",
       "      <td>Cute top but very uncomfortable</td>\n",
       "      <td>The styling of this top is so cute but the fab...</td>\n",
       "      <td>1</td>\n",
       "      <td>0</td>\n",
       "      <td>0</td>\n",
       "      <td>General</td>\n",
       "      <td>Tops</td>\n",
       "      <td>Blouses</td>\n",
       "    </tr>\n",
       "    <tr>\n",
       "      <th>18749</th>\n",
       "      <td>828</td>\n",
       "      <td>42</td>\n",
       "      <td>Disappointing for the price</td>\n",
       "      <td>The cut of this piece is great, the quality of...</td>\n",
       "      <td>1</td>\n",
       "      <td>0</td>\n",
       "      <td>8</td>\n",
       "      <td>General Petite</td>\n",
       "      <td>Tops</td>\n",
       "      <td>Blouses</td>\n",
       "    </tr>\n",
       "  </tbody>\n",
       "</table>\n",
       "</div>"
      ],
      "text/plain": [
       "       clothing_id  age                                title  \\\n",
       "3820           828   83               So wanted to love.....   \n",
       "6070           828   46                        Test like fit   \n",
       "6108           828   52                   Fabric looks cheap   \n",
       "6599           828   46  Oversized and unstructured but soft   \n",
       "16464          828   73      Cute top but very uncomfortable   \n",
       "18749          828   42          Disappointing for the price   \n",
       "\n",
       "                                             review_text  rating  \\\n",
       "3820   I saw this top online and ordered immediately!...       1   \n",
       "6070   This shirt was tent like on me and there was r...       1   \n",
       "6108   I returned this item. it was soft. very blah f...       1   \n",
       "6599   I tried this shirt in a small (my usual retail...       1   \n",
       "16464  The styling of this top is so cute but the fab...       1   \n",
       "18749  The cut of this piece is great, the quality of...       1   \n",
       "\n",
       "       recommended_ind  positive_feedback_count   division_name  \\\n",
       "3820                 0                       16         General   \n",
       "6070                 0                        0         General   \n",
       "6108                 0                        0         General   \n",
       "6599                 0                        4  General Petite   \n",
       "16464                0                        0         General   \n",
       "18749                0                        8  General Petite   \n",
       "\n",
       "      department_name class_name  \n",
       "3820             Tops    Blouses  \n",
       "6070             Tops    Blouses  \n",
       "6108             Tops    Blouses  \n",
       "6599             Tops    Blouses  \n",
       "16464            Tops    Blouses  \n",
       "18749            Tops    Blouses  "
      ]
     },
     "execution_count": 18,
     "metadata": {},
     "output_type": "execute_result"
    }
   ],
   "source": [
    "print(df[(df.clothing_id == 828)].shape[0])\n",
    "\n",
    "df[(df.clothing_id == 828) & (df.rating == 1)]"
   ]
  },
  {
   "cell_type": "code",
   "execution_count": 19,
   "metadata": {},
   "outputs": [
    {
     "data": {
      "text/plain": [
       "Int64Index([1078, 862, 1094, 1081, 872, 829, 1110, 868, 895, 936], dtype='int64', name='clothing_id')"
      ]
     },
     "execution_count": 19,
     "metadata": {},
     "output_type": "execute_result"
    }
   ],
   "source": [
    "popular_clothing_items = df.groupby('clothing_id').count().age.sort_values(ascending = False)[:50]\n",
    "popular_clothing_items.index[:10]"
   ]
  },
  {
   "cell_type": "code",
   "execution_count": 20,
   "metadata": {},
   "outputs": [
    {
     "data": {
      "text/plain": [
       "rating  recommended_ind\n",
       "1       0                    826\n",
       "        1                     16\n",
       "2       0                   1471\n",
       "        1                     94\n",
       "3       0                   1682\n",
       "        1                   1189\n",
       "4       1                   4909\n",
       "        0                    168\n",
       "5       1                  13106\n",
       "        0                     25\n",
       "Name: recommended_ind, dtype: int64"
      ]
     },
     "execution_count": 20,
     "metadata": {},
     "output_type": "execute_result"
    }
   ],
   "source": [
    "df.recommended_ind.groupby(df.rating).value_counts()"
   ]
  },
  {
   "cell_type": "code",
   "execution_count": 21,
   "metadata": {},
   "outputs": [
    {
     "data": {
      "image/png": "[encoded data removed]",
      "text/plain": [
       "<Figure size 432x360 with 1 Axes>"
      ]
     },
     "metadata": {},
     "output_type": "display_data"
    }
   ],
   "source": [
    "import numpy as np\n",
    "\n",
    "plt.figure(figsize=(6, 5))\n",
    "\n",
    "positive = df[df.recommended_ind == 1]\n",
    "sns.distplot(positive.rating, kde=False, label=\"Positive\", bins = 9)\n",
    "\n",
    "negative = df[df.recommended_ind == 0]\n",
    "sns.distplot(negative.rating, kde=False, label=\"Negative\", bins = 9)\n",
    "\n",
    "plt.legend()\n",
    "plt.title('Reviews by rating')\n",
    "plt.xlabel('Rating')\n",
    "plt.ylabel('Count (log)')\n",
    "plt.yscale('log')\n",
    "plt.xticks(np.arange(1, 6))\n",
    "_ = plt.show()"
   ]
  },
  {
   "cell_type": "code",
   "execution_count": 22,
   "metadata": {},
   "outputs": [
    {
     "data": {
      "text/html": [
       "<div>\n",
       "<style scoped>\n",
       "    .dataframe tbody tr th:only-of-type {\n",
       "        vertical-align: middle;\n",
       "    }\n",
       "\n",
       "    .dataframe tbody tr th {\n",
       "        vertical-align: top;\n",
       "    }\n",
       "\n",
       "    .dataframe thead th {\n",
       "        text-align: right;\n",
       "    }\n",
       "</style>\n",
       "<table border=\"1\" class=\"dataframe\">\n",
       "  <thead>\n",
       "    <tr style=\"text-align: right;\">\n",
       "      <th></th>\n",
       "      <th>clothing_id</th>\n",
       "      <th>age</th>\n",
       "      <th>title</th>\n",
       "      <th>review_text</th>\n",
       "      <th>rating</th>\n",
       "      <th>recommended_ind</th>\n",
       "      <th>positive_feedback_count</th>\n",
       "      <th>division_name</th>\n",
       "      <th>department_name</th>\n",
       "      <th>class_name</th>\n",
       "    </tr>\n",
       "  </thead>\n",
       "  <tbody>\n",
       "    <tr>\n",
       "      <th>2427</th>\n",
       "      <td>939</td>\n",
       "      <td>39</td>\n",
       "      <td>NaN</td>\n",
       "      <td>Beautiful jacket and i got lots of compliments...</td>\n",
       "      <td>1</td>\n",
       "      <td>1</td>\n",
       "      <td>0</td>\n",
       "      <td>General</td>\n",
       "      <td>Tops</td>\n",
       "      <td>Sweaters</td>\n",
       "    </tr>\n",
       "    <tr>\n",
       "      <th>2872</th>\n",
       "      <td>829</td>\n",
       "      <td>51</td>\n",
       "      <td>NaN</td>\n",
       "      <td>Very cute top. i went down a size because for ...</td>\n",
       "      <td>1</td>\n",
       "      <td>1</td>\n",
       "      <td>1</td>\n",
       "      <td>General Petite</td>\n",
       "      <td>Tops</td>\n",
       "      <td>Blouses</td>\n",
       "    </tr>\n",
       "    <tr>\n",
       "      <th>5570</th>\n",
       "      <td>861</td>\n",
       "      <td>69</td>\n",
       "      <td>Great t</td>\n",
       "      <td>I love this t-shirt because it has the combina...</td>\n",
       "      <td>1</td>\n",
       "      <td>1</td>\n",
       "      <td>0</td>\n",
       "      <td>General</td>\n",
       "      <td>Tops</td>\n",
       "      <td>Knits</td>\n",
       "    </tr>\n",
       "    <tr>\n",
       "      <th>6216</th>\n",
       "      <td>829</td>\n",
       "      <td>53</td>\n",
       "      <td>Traditional material in a new way</td>\n",
       "      <td>Love the movement of the blouse and how it fal...</td>\n",
       "      <td>1</td>\n",
       "      <td>1</td>\n",
       "      <td>0</td>\n",
       "      <td>General</td>\n",
       "      <td>Tops</td>\n",
       "      <td>Blouses</td>\n",
       "    </tr>\n",
       "    <tr>\n",
       "      <th>7740</th>\n",
       "      <td>872</td>\n",
       "      <td>44</td>\n",
       "      <td>Odd neckline</td>\n",
       "      <td>I loved the color and design until i tried it ...</td>\n",
       "      <td>1</td>\n",
       "      <td>1</td>\n",
       "      <td>0</td>\n",
       "      <td>General</td>\n",
       "      <td>Tops</td>\n",
       "      <td>Knits</td>\n",
       "    </tr>\n",
       "    <tr>\n",
       "      <th>7850</th>\n",
       "      <td>956</td>\n",
       "      <td>43</td>\n",
       "      <td>NaN</td>\n",
       "      <td>This is so close to perfect, but there's a sea...</td>\n",
       "      <td>1</td>\n",
       "      <td>1</td>\n",
       "      <td>1</td>\n",
       "      <td>General Petite</td>\n",
       "      <td>Jackets</td>\n",
       "      <td>Jackets</td>\n",
       "    </tr>\n",
       "    <tr>\n",
       "      <th>9877</th>\n",
       "      <td>1084</td>\n",
       "      <td>58</td>\n",
       "      <td>NaN</td>\n",
       "      <td>I loved the dress, but just not dressy enough ...</td>\n",
       "      <td>1</td>\n",
       "      <td>1</td>\n",
       "      <td>5</td>\n",
       "      <td>General Petite</td>\n",
       "      <td>Dresses</td>\n",
       "      <td>Dresses</td>\n",
       "    </tr>\n",
       "    <tr>\n",
       "      <th>10517</th>\n",
       "      <td>1110</td>\n",
       "      <td>44</td>\n",
       "      <td>Beautiful dress; so excited to wear it!!!</td>\n",
       "      <td>I saw this dress in the catalog and had to hav...</td>\n",
       "      <td>1</td>\n",
       "      <td>1</td>\n",
       "      <td>0</td>\n",
       "      <td>General</td>\n",
       "      <td>Dresses</td>\n",
       "      <td>Dresses</td>\n",
       "    </tr>\n",
       "    <tr>\n",
       "      <th>13607</th>\n",
       "      <td>1075</td>\n",
       "      <td>48</td>\n",
       "      <td>Great dress</td>\n",
       "      <td>Such a great dress. fit is flattering. the sma...</td>\n",
       "      <td>1</td>\n",
       "      <td>1</td>\n",
       "      <td>0</td>\n",
       "      <td>General</td>\n",
       "      <td>Dresses</td>\n",
       "      <td>Dresses</td>\n",
       "    </tr>\n",
       "    <tr>\n",
       "      <th>16194</th>\n",
       "      <td>1081</td>\n",
       "      <td>68</td>\n",
       "      <td>NaN</td>\n",
       "      <td>This is an extremely flattering dress. i could...</td>\n",
       "      <td>1</td>\n",
       "      <td>1</td>\n",
       "      <td>1</td>\n",
       "      <td>General Petite</td>\n",
       "      <td>Dresses</td>\n",
       "      <td>Dresses</td>\n",
       "    </tr>\n",
       "    <tr>\n",
       "      <th>16428</th>\n",
       "      <td>867</td>\n",
       "      <td>56</td>\n",
       "      <td>Perfect for summer!</td>\n",
       "      <td>Love this top! it's pretty, unique and well ma...</td>\n",
       "      <td>1</td>\n",
       "      <td>1</td>\n",
       "      <td>12</td>\n",
       "      <td>General Petite</td>\n",
       "      <td>Tops</td>\n",
       "      <td>Knits</td>\n",
       "    </tr>\n",
       "    <tr>\n",
       "      <th>16995</th>\n",
       "      <td>984</td>\n",
       "      <td>57</td>\n",
       "      <td>NaN</td>\n",
       "      <td>Love the jacket! so versatile! would probably ...</td>\n",
       "      <td>1</td>\n",
       "      <td>1</td>\n",
       "      <td>2</td>\n",
       "      <td>General</td>\n",
       "      <td>Jackets</td>\n",
       "      <td>Jackets</td>\n",
       "    </tr>\n",
       "    <tr>\n",
       "      <th>18676</th>\n",
       "      <td>1104</td>\n",
       "      <td>55</td>\n",
       "      <td>NaN</td>\n",
       "      <td>This is a cute dress, but not for me. 1. i thi...</td>\n",
       "      <td>1</td>\n",
       "      <td>1</td>\n",
       "      <td>3</td>\n",
       "      <td>General</td>\n",
       "      <td>Dresses</td>\n",
       "      <td>Dresses</td>\n",
       "    </tr>\n",
       "    <tr>\n",
       "      <th>20649</th>\n",
       "      <td>830</td>\n",
       "      <td>64</td>\n",
       "      <td>NaN</td>\n",
       "      <td>NaN</td>\n",
       "      <td>1</td>\n",
       "      <td>1</td>\n",
       "      <td>0</td>\n",
       "      <td>General</td>\n",
       "      <td>Tops</td>\n",
       "      <td>Blouses</td>\n",
       "    </tr>\n",
       "    <tr>\n",
       "      <th>22087</th>\n",
       "      <td>850</td>\n",
       "      <td>54</td>\n",
       "      <td>NaN</td>\n",
       "      <td>Love this top! but unfortunately i returned it...</td>\n",
       "      <td>1</td>\n",
       "      <td>1</td>\n",
       "      <td>0</td>\n",
       "      <td>General</td>\n",
       "      <td>Tops</td>\n",
       "      <td>Blouses</td>\n",
       "    </tr>\n",
       "    <tr>\n",
       "      <th>22632</th>\n",
       "      <td>455</td>\n",
       "      <td>34</td>\n",
       "      <td>This is a zippered hoodie</td>\n",
       "      <td>Just wanted to review so people know this hood...</td>\n",
       "      <td>1</td>\n",
       "      <td>1</td>\n",
       "      <td>7</td>\n",
       "      <td>Initmates</td>\n",
       "      <td>Intimate</td>\n",
       "      <td>Lounge</td>\n",
       "    </tr>\n",
       "  </tbody>\n",
       "</table>\n",
       "</div>"
      ],
      "text/plain": [
       "       clothing_id  age                                      title  \\\n",
       "2427           939   39                                        NaN   \n",
       "2872           829   51                                        NaN   \n",
       "5570           861   69                                    Great t   \n",
       "6216           829   53          Traditional material in a new way   \n",
       "7740           872   44                               Odd neckline   \n",
       "7850           956   43                                        NaN   \n",
       "9877          1084   58                                        NaN   \n",
       "10517         1110   44  Beautiful dress; so excited to wear it!!!   \n",
       "13607         1075   48                                Great dress   \n",
       "16194         1081   68                                        NaN   \n",
       "16428          867   56                        Perfect for summer!   \n",
       "16995          984   57                                        NaN   \n",
       "18676         1104   55                                        NaN   \n",
       "20649          830   64                                        NaN   \n",
       "22087          850   54                                        NaN   \n",
       "22632          455   34                  This is a zippered hoodie   \n",
       "\n",
       "                                             review_text  rating  \\\n",
       "2427   Beautiful jacket and i got lots of compliments...       1   \n",
       "2872   Very cute top. i went down a size because for ...       1   \n",
       "5570   I love this t-shirt because it has the combina...       1   \n",
       "6216   Love the movement of the blouse and how it fal...       1   \n",
       "7740   I loved the color and design until i tried it ...       1   \n",
       "7850   This is so close to perfect, but there's a sea...       1   \n",
       "9877   I loved the dress, but just not dressy enough ...       1   \n",
       "10517  I saw this dress in the catalog and had to hav...       1   \n",
       "13607  Such a great dress. fit is flattering. the sma...       1   \n",
       "16194  This is an extremely flattering dress. i could...       1   \n",
       "16428  Love this top! it's pretty, unique and well ma...       1   \n",
       "16995  Love the jacket! so versatile! would probably ...       1   \n",
       "18676  This is a cute dress, but not for me. 1. i thi...       1   \n",
       "20649                                                NaN       1   \n",
       "22087  Love this top! but unfortunately i returned it...       1   \n",
       "22632  Just wanted to review so people know this hood...       1   \n",
       "\n",
       "       recommended_ind  positive_feedback_count   division_name  \\\n",
       "2427                 1                        0         General   \n",
       "2872                 1                        1  General Petite   \n",
       "5570                 1                        0         General   \n",
       "6216                 1                        0         General   \n",
       "7740                 1                        0         General   \n",
       "7850                 1                        1  General Petite   \n",
       "9877                 1                        5  General Petite   \n",
       "10517                1                        0         General   \n",
       "13607                1                        0         General   \n",
       "16194                1                        1  General Petite   \n",
       "16428                1                       12  General Petite   \n",
       "16995                1                        2         General   \n",
       "18676                1                        3         General   \n",
       "20649                1                        0         General   \n",
       "22087                1                        0         General   \n",
       "22632                1                        7       Initmates   \n",
       "\n",
       "      department_name class_name  \n",
       "2427             Tops   Sweaters  \n",
       "2872             Tops    Blouses  \n",
       "5570             Tops      Knits  \n",
       "6216             Tops    Blouses  \n",
       "7740             Tops      Knits  \n",
       "7850          Jackets    Jackets  \n",
       "9877          Dresses    Dresses  \n",
       "10517         Dresses    Dresses  \n",
       "13607         Dresses    Dresses  \n",
       "16194         Dresses    Dresses  \n",
       "16428            Tops      Knits  \n",
       "16995         Jackets    Jackets  \n",
       "18676         Dresses    Dresses  \n",
       "20649            Tops    Blouses  \n",
       "22087            Tops    Blouses  \n",
       "22632        Intimate     Lounge  "
      ]
     },
     "execution_count": 22,
     "metadata": {},
     "output_type": "execute_result"
    }
   ],
   "source": [
    "df[(df.rating == 1) & (df.recommended_ind == 1)]"
   ]
  },
  {
   "cell_type": "code",
   "execution_count": null,
   "metadata": {},
   "outputs": [],
   "source": []
  },
  {
   "cell_type": "markdown",
   "metadata": {},
   "source": [
    "- it's strange that someone would leave a one-star review and still recommend a product, or leave a five-star review and not recommend a product. Maybe these people didn't fill out their review surveys carefully?"
   ]
  },
  {
   "cell_type": "code",
   "execution_count": 23,
   "metadata": {},
   "outputs": [],
   "source": [
    "# for i in df.age.sort_values().unique():\n",
    "#     print(i)\n",
    "#     print(df[df.age == i].class_name.value_counts().index[0], df[df.age == i].class_name.value_counts()[0])\n",
    "#     print(df[df.age == i].class_name.value_counts().index[1], df[df.age == i].class_name.value_counts()[1])\n",
    "#     print(df[df.age == i].class_name.value_counts().index[2])"
   ]
  },
  {
   "cell_type": "code",
   "execution_count": null,
   "metadata": {},
   "outputs": [],
   "source": []
  },
  {
   "cell_type": "markdown",
   "metadata": {},
   "source": [
    "- The most reviewed item by age is shown below"
   ]
  },
  {
   "cell_type": "code",
   "execution_count": 24,
   "metadata": {},
   "outputs": [
    {
     "data": {
      "text/plain": [
       "age\n",
       "18    1072\n",
       "19    1095\n",
       "20    1078\n",
       "21     862\n",
       "22    1081\n",
       "23    1078\n",
       "24    1094\n",
       "25    1078\n",
       "26    1078\n",
       "27    1094\n",
       "28    1078\n",
       "29    1078\n",
       "30    1094\n",
       "31    1078\n",
       "32    1094\n",
       "33    1078\n",
       "34    1078\n",
       "35    1078\n",
       "36    1078\n",
       "37     862\n",
       "38    1078\n",
       "39    1078\n",
       "40     862\n",
       "41     862\n",
       "42    1078\n",
       "43    1078\n",
       "44    1078\n",
       "45    1078\n",
       "46    1078\n",
       "47    1094\n",
       "48    1078\n",
       "49    1078\n",
       "50     862\n",
       "51    1078\n",
       "52    1078\n",
       "53    1078\n",
       "54    1094\n",
       "55     868\n",
       "56    1078\n",
       "57    1078\n",
       "58     829\n",
       "59     862\n",
       "60     862\n",
       "61    1078\n",
       "62    1078\n",
       "63     862\n",
       "64     862\n",
       "65     863\n",
       "66     829\n",
       "67     868\n",
       "68    1081\n",
       "69     936\n",
       "70     867\n",
       "71     863\n",
       "72    1081\n",
       "73     860\n",
       "74     862\n",
       "75     868\n",
       "76     862\n",
       "77     862\n",
       "Name: clothing_id, dtype: int64"
      ]
     },
     "execution_count": 24,
     "metadata": {},
     "output_type": "execute_result"
    }
   ],
   "source": [
    "df.groupby('age').clothing_id.agg(lambda x:x.value_counts().index[0]).head(60)"
   ]
  },
  {
   "cell_type": "code",
   "execution_count": 25,
   "metadata": {},
   "outputs": [
    {
     "data": {
      "text/plain": [
       "<matplotlib.axes._subplots.AxesSubplot at 0x225c668d0a0>"
      ]
     },
     "execution_count": 25,
     "metadata": {},
     "output_type": "execute_result"
    },
    {
     "data": {
      "image/png": "[encoded data removed]",
      "text/plain": [
       "<Figure size 432x288 with 1 Axes>"
      ]
     },
     "metadata": {},
     "output_type": "display_data"
    }
   ],
   "source": [
    "df[df.clothing_id ==1072].age.hist()"
   ]
  },
  {
   "cell_type": "code",
   "execution_count": 26,
   "metadata": {},
   "outputs": [
    {
     "data": {
      "text/plain": [
       "<matplotlib.axes._subplots.AxesSubplot at 0x225c6643730>"
      ]
     },
     "execution_count": 26,
     "metadata": {},
     "output_type": "execute_result"
    },
    {
     "data": {
      "image/png": "[encoded data removed]",
      "text/plain": [
       "<Figure size 432x288 with 1 Axes>"
      ]
     },
     "metadata": {},
     "output_type": "display_data"
    }
   ],
   "source": [
    "df[df.clothing_id ==862].age.hist()"
   ]
  },
  {
   "cell_type": "code",
   "execution_count": 27,
   "metadata": {},
   "outputs": [
    {
     "data": {
      "text/html": [
       "<div>\n",
       "<style scoped>\n",
       "    .dataframe tbody tr th:only-of-type {\n",
       "        vertical-align: middle;\n",
       "    }\n",
       "\n",
       "    .dataframe tbody tr th {\n",
       "        vertical-align: top;\n",
       "    }\n",
       "\n",
       "    .dataframe thead th {\n",
       "        text-align: right;\n",
       "    }\n",
       "</style>\n",
       "<table border=\"1\" class=\"dataframe\">\n",
       "  <thead>\n",
       "    <tr style=\"text-align: right;\">\n",
       "      <th></th>\n",
       "      <th>clothing_id</th>\n",
       "      <th>age</th>\n",
       "      <th>title</th>\n",
       "      <th>review_text</th>\n",
       "      <th>rating</th>\n",
       "      <th>recommended_ind</th>\n",
       "      <th>positive_feedback_count</th>\n",
       "      <th>division_name</th>\n",
       "      <th>department_name</th>\n",
       "      <th>class_name</th>\n",
       "    </tr>\n",
       "  </thead>\n",
       "  <tbody>\n",
       "    <tr>\n",
       "      <th>893</th>\n",
       "      <td>860</td>\n",
       "      <td>30</td>\n",
       "      <td>NaN</td>\n",
       "      <td>NaN</td>\n",
       "      <td>5</td>\n",
       "      <td>1</td>\n",
       "      <td>0</td>\n",
       "      <td>General Petite</td>\n",
       "      <td>Tops</td>\n",
       "      <td>Knits</td>\n",
       "    </tr>\n",
       "    <tr>\n",
       "      <th>1122</th>\n",
       "      <td>860</td>\n",
       "      <td>41</td>\n",
       "      <td>Wanted to love it!</td>\n",
       "      <td>Was so excited for this top! loved the embroid...</td>\n",
       "      <td>3</td>\n",
       "      <td>0</td>\n",
       "      <td>5</td>\n",
       "      <td>General Petite</td>\n",
       "      <td>Tops</td>\n",
       "      <td>Knits</td>\n",
       "    </tr>\n",
       "    <tr>\n",
       "      <th>1126</th>\n",
       "      <td>860</td>\n",
       "      <td>53</td>\n",
       "      <td>Favorite summer top</td>\n",
       "      <td>I love this little number. the quality is terr...</td>\n",
       "      <td>5</td>\n",
       "      <td>1</td>\n",
       "      <td>1</td>\n",
       "      <td>General Petite</td>\n",
       "      <td>Tops</td>\n",
       "      <td>Knits</td>\n",
       "    </tr>\n",
       "    <tr>\n",
       "      <th>1129</th>\n",
       "      <td>860</td>\n",
       "      <td>48</td>\n",
       "      <td>Beautiful in blue!</td>\n",
       "      <td>I totally love this tank! the yoke detailing i...</td>\n",
       "      <td>5</td>\n",
       "      <td>1</td>\n",
       "      <td>2</td>\n",
       "      <td>General Petite</td>\n",
       "      <td>Tops</td>\n",
       "      <td>Knits</td>\n",
       "    </tr>\n",
       "    <tr>\n",
       "      <th>1130</th>\n",
       "      <td>860</td>\n",
       "      <td>39</td>\n",
       "      <td>Gorgeous!</td>\n",
       "      <td>Gorgeous cobalt blue color!!!  usually s/m- bo...</td>\n",
       "      <td>5</td>\n",
       "      <td>1</td>\n",
       "      <td>0</td>\n",
       "      <td>General Petite</td>\n",
       "      <td>Tops</td>\n",
       "      <td>Knits</td>\n",
       "    </tr>\n",
       "  </tbody>\n",
       "</table>\n",
       "</div>"
      ],
      "text/plain": [
       "      clothing_id  age                title  \\\n",
       "893           860   30                  NaN   \n",
       "1122          860   41   Wanted to love it!   \n",
       "1126          860   53  Favorite summer top   \n",
       "1129          860   48   Beautiful in blue!   \n",
       "1130          860   39            Gorgeous!   \n",
       "\n",
       "                                            review_text  rating  \\\n",
       "893                                                 NaN       5   \n",
       "1122  Was so excited for this top! loved the embroid...       3   \n",
       "1126  I love this little number. the quality is terr...       5   \n",
       "1129  I totally love this tank! the yoke detailing i...       5   \n",
       "1130  Gorgeous cobalt blue color!!!  usually s/m- bo...       5   \n",
       "\n",
       "      recommended_ind  positive_feedback_count   division_name  \\\n",
       "893                 1                        0  General Petite   \n",
       "1122                0                        5  General Petite   \n",
       "1126                1                        1  General Petite   \n",
       "1129                1                        2  General Petite   \n",
       "1130                1                        0  General Petite   \n",
       "\n",
       "     department_name class_name  \n",
       "893             Tops      Knits  \n",
       "1122            Tops      Knits  \n",
       "1126            Tops      Knits  \n",
       "1129            Tops      Knits  \n",
       "1130            Tops      Knits  "
      ]
     },
     "execution_count": 27,
     "metadata": {},
     "output_type": "execute_result"
    }
   ],
   "source": [
    "df[df.clothing_id == 860].head()"
   ]
  },
  {
   "cell_type": "code",
   "execution_count": 28,
   "metadata": {},
   "outputs": [
    {
     "data": {
      "text/html": [
       "<div>\n",
       "<style scoped>\n",
       "    .dataframe tbody tr th:only-of-type {\n",
       "        vertical-align: middle;\n",
       "    }\n",
       "\n",
       "    .dataframe tbody tr th {\n",
       "        vertical-align: top;\n",
       "    }\n",
       "\n",
       "    .dataframe thead th {\n",
       "        text-align: right;\n",
       "    }\n",
       "</style>\n",
       "<table border=\"1\" class=\"dataframe\">\n",
       "  <thead>\n",
       "    <tr style=\"text-align: right;\">\n",
       "      <th></th>\n",
       "      <th>clothing_id</th>\n",
       "      <th>age</th>\n",
       "      <th>title</th>\n",
       "      <th>review_text</th>\n",
       "      <th>rating</th>\n",
       "      <th>recommended_ind</th>\n",
       "      <th>positive_feedback_count</th>\n",
       "      <th>division_name</th>\n",
       "      <th>department_name</th>\n",
       "      <th>class_name</th>\n",
       "    </tr>\n",
       "  </thead>\n",
       "  <tbody>\n",
       "    <tr>\n",
       "      <th>11</th>\n",
       "      <td>1095</td>\n",
       "      <td>39</td>\n",
       "      <td>NaN</td>\n",
       "      <td>This dress is perfection! so pretty and flatte...</td>\n",
       "      <td>5</td>\n",
       "      <td>1</td>\n",
       "      <td>2</td>\n",
       "      <td>General Petite</td>\n",
       "      <td>Dresses</td>\n",
       "      <td>Dresses</td>\n",
       "    </tr>\n",
       "    <tr>\n",
       "      <th>12</th>\n",
       "      <td>1095</td>\n",
       "      <td>53</td>\n",
       "      <td>Perfect!!!</td>\n",
       "      <td>More and more i find myself reliant on the rev...</td>\n",
       "      <td>5</td>\n",
       "      <td>1</td>\n",
       "      <td>2</td>\n",
       "      <td>General Petite</td>\n",
       "      <td>Dresses</td>\n",
       "      <td>Dresses</td>\n",
       "    </tr>\n",
       "    <tr>\n",
       "      <th>58</th>\n",
       "      <td>1095</td>\n",
       "      <td>36</td>\n",
       "      <td>NaN</td>\n",
       "      <td>I got this in the petite length, size o, and i...</td>\n",
       "      <td>4</td>\n",
       "      <td>1</td>\n",
       "      <td>0</td>\n",
       "      <td>General Petite</td>\n",
       "      <td>Dresses</td>\n",
       "      <td>Dresses</td>\n",
       "    </tr>\n",
       "    <tr>\n",
       "      <th>60</th>\n",
       "      <td>1095</td>\n",
       "      <td>41</td>\n",
       "      <td>Gorgeous dress!</td>\n",
       "      <td>This dress is simply beautiful and stunning. i...</td>\n",
       "      <td>5</td>\n",
       "      <td>1</td>\n",
       "      <td>0</td>\n",
       "      <td>General Petite</td>\n",
       "      <td>Dresses</td>\n",
       "      <td>Dresses</td>\n",
       "    </tr>\n",
       "    <tr>\n",
       "      <th>1215</th>\n",
       "      <td>1095</td>\n",
       "      <td>50</td>\n",
       "      <td>A little itchy for me</td>\n",
       "      <td>I tried this on in the store - i tried regular...</td>\n",
       "      <td>3</td>\n",
       "      <td>1</td>\n",
       "      <td>1</td>\n",
       "      <td>General</td>\n",
       "      <td>Dresses</td>\n",
       "      <td>Dresses</td>\n",
       "    </tr>\n",
       "  </tbody>\n",
       "</table>\n",
       "</div>"
      ],
      "text/plain": [
       "      clothing_id  age                  title  \\\n",
       "11           1095   39                    NaN   \n",
       "12           1095   53             Perfect!!!   \n",
       "58           1095   36                    NaN   \n",
       "60           1095   41        Gorgeous dress!   \n",
       "1215         1095   50  A little itchy for me   \n",
       "\n",
       "                                            review_text  rating  \\\n",
       "11    This dress is perfection! so pretty and flatte...       5   \n",
       "12    More and more i find myself reliant on the rev...       5   \n",
       "58    I got this in the petite length, size o, and i...       4   \n",
       "60    This dress is simply beautiful and stunning. i...       5   \n",
       "1215  I tried this on in the store - i tried regular...       3   \n",
       "\n",
       "      recommended_ind  positive_feedback_count   division_name  \\\n",
       "11                  1                        2  General Petite   \n",
       "12                  1                        2  General Petite   \n",
       "58                  1                        0  General Petite   \n",
       "60                  1                        0  General Petite   \n",
       "1215                1                        1         General   \n",
       "\n",
       "     department_name class_name  \n",
       "11           Dresses    Dresses  \n",
       "12           Dresses    Dresses  \n",
       "58           Dresses    Dresses  \n",
       "60           Dresses    Dresses  \n",
       "1215         Dresses    Dresses  "
      ]
     },
     "execution_count": 28,
     "metadata": {},
     "output_type": "execute_result"
    }
   ],
   "source": [
    "df[df.clothing_id == 1095].head()"
   ]
  },
  {
   "cell_type": "code",
   "execution_count": 29,
   "metadata": {},
   "outputs": [
    {
     "data": {
      "text/plain": [
       "clothing_id                   0\n",
       "age                           0\n",
       "title                      3810\n",
       "review_text                 845\n",
       "rating                        0\n",
       "recommended_ind               0\n",
       "positive_feedback_count       0\n",
       "division_name                14\n",
       "department_name              14\n",
       "class_name                   14\n",
       "dtype: int64"
      ]
     },
     "execution_count": 29,
     "metadata": {},
     "output_type": "execute_result"
    }
   ],
   "source": [
    "df.isnull().sum()"
   ]
  },
  {
   "cell_type": "code",
   "execution_count": null,
   "metadata": {},
   "outputs": [],
   "source": []
  },
  {
   "cell_type": "markdown",
   "metadata": {},
   "source": [
    "- Null values for review_text are addressed later by separating into popular reviews, which all have review_text"
   ]
  },
  {
   "cell_type": "code",
   "execution_count": 30,
   "metadata": {
    "scrolled": false
   },
   "outputs": [
    {
     "data": {
      "image/png": "[encoded data removed]",
      "text/plain": [
       "<Figure size 648x432 with 1 Axes>"
      ]
     },
     "metadata": {},
     "output_type": "display_data"
    }
   ],
   "source": [
    "from matplotlib import pyplot as plt\n",
    "import seaborn as sns\n",
    "\n",
    "sns.set()\n",
    "\n",
    "\n",
    "a = df[df.department_name == \"Tops\"].age\n",
    "b = df[df.department_name == \"Dresses\"].age\n",
    "c = df[df.department_name == \"Bottoms\"].age\n",
    "d = df[df.department_name == \"Intimate\"].age\n",
    "e = df[df.department_name == \"Jackets\"].age\n",
    "\n",
    "bins=40\n",
    "\n",
    "plt.figure(figsize=(9, 6))\n",
    "\n",
    "plt.hist(a, bins, alpha=0.5, label='Tops')\n",
    "plt.hist(b, bins, alpha=0.5, label='Dresses')\n",
    "plt.hist(c, bins, alpha=0.5, label='Bottoms')\n",
    "plt.hist(d, bins, alpha=0.5, label='Intimate')\n",
    "plt.hist(e, bins, alpha=0.5, label='Jackets')\n",
    "\n",
    "plt.legend(loc = 'upper right')\n",
    "plt.title(\"Item Interest by Age\")\n",
    "plt.xlabel(\"Age\")\n",
    "plt.ylabel(\"Count\")\n",
    "plt.show()"
   ]
  },
  {
   "cell_type": "code",
   "execution_count": null,
   "metadata": {},
   "outputs": [],
   "source": []
  },
  {
   "cell_type": "markdown",
   "metadata": {},
   "source": [
    "- Showing the distribution of ages as a histogram above, and as a boxplot sorted by department name below"
   ]
  },
  {
   "cell_type": "code",
   "execution_count": 31,
   "metadata": {},
   "outputs": [
    {
     "data": {
      "text/plain": [
       "<seaborn.axisgrid.FacetGrid at 0x225c4e369d0>"
      ]
     },
     "execution_count": 31,
     "metadata": {},
     "output_type": "execute_result"
    },
    {
     "data": {
      "image/png": "[encoded data removed]",
      "text/plain": [
       "<Figure size 360x360 with 1 Axes>"
      ]
     },
     "metadata": {},
     "output_type": "display_data"
    }
   ],
   "source": [
    "sns.catplot(kind=\"box\", data=df, x=\"department_name\", y=\"age\")"
   ]
  },
  {
   "cell_type": "code",
   "execution_count": null,
   "metadata": {},
   "outputs": [],
   "source": []
  },
  {
   "cell_type": "markdown",
   "metadata": {},
   "source": [
    "- Below, data is limited to reviews that have 5 or more likes. This is meant to leave the dataframe with reviews that better represent public opinion of the products. This also removes null values in review_text, since people don't upvote empty reviews"
   ]
  },
  {
   "cell_type": "code",
   "execution_count": 32,
   "metadata": {},
   "outputs": [
    {
     "data": {
      "text/html": [
       "<div>\n",
       "<style scoped>\n",
       "    .dataframe tbody tr th:only-of-type {\n",
       "        vertical-align: middle;\n",
       "    }\n",
       "\n",
       "    .dataframe tbody tr th {\n",
       "        vertical-align: top;\n",
       "    }\n",
       "\n",
       "    .dataframe thead th {\n",
       "        text-align: right;\n",
       "    }\n",
       "</style>\n",
       "<table border=\"1\" class=\"dataframe\">\n",
       "  <thead>\n",
       "    <tr style=\"text-align: right;\">\n",
       "      <th></th>\n",
       "      <th>clothing_id</th>\n",
       "      <th>age</th>\n",
       "      <th>title</th>\n",
       "      <th>review_text</th>\n",
       "      <th>rating</th>\n",
       "      <th>recommended_ind</th>\n",
       "      <th>positive_feedback_count</th>\n",
       "      <th>division_name</th>\n",
       "      <th>department_name</th>\n",
       "      <th>class_name</th>\n",
       "    </tr>\n",
       "  </thead>\n",
       "  <tbody>\n",
       "    <tr>\n",
       "      <th>0</th>\n",
       "      <td>1092</td>\n",
       "      <td>34</td>\n",
       "      <td>Beware if you're fuller in the chest</td>\n",
       "      <td>I loved the lace detailing all over this dress...</td>\n",
       "      <td>3</td>\n",
       "      <td>1</td>\n",
       "      <td>122</td>\n",
       "      <td>General</td>\n",
       "      <td>Dresses</td>\n",
       "      <td>Dresses</td>\n",
       "    </tr>\n",
       "    <tr>\n",
       "      <th>1</th>\n",
       "      <td>1095</td>\n",
       "      <td>29</td>\n",
       "      <td>NaN</td>\n",
       "      <td>I've been on the hunt for the perfect dress to...</td>\n",
       "      <td>5</td>\n",
       "      <td>1</td>\n",
       "      <td>117</td>\n",
       "      <td>General</td>\n",
       "      <td>Dresses</td>\n",
       "      <td>Dresses</td>\n",
       "    </tr>\n",
       "    <tr>\n",
       "      <th>2</th>\n",
       "      <td>986</td>\n",
       "      <td>43</td>\n",
       "      <td>Quality does not merit cost</td>\n",
       "      <td>I generally don't write bad reviews, but there...</td>\n",
       "      <td>1</td>\n",
       "      <td>0</td>\n",
       "      <td>108</td>\n",
       "      <td>General</td>\n",
       "      <td>Jackets</td>\n",
       "      <td>Jackets</td>\n",
       "    </tr>\n",
       "    <tr>\n",
       "      <th>3</th>\n",
       "      <td>1121</td>\n",
       "      <td>35</td>\n",
       "      <td>A navy trench-yes!</td>\n",
       "      <td>I am a big fan of trench coats and i love that...</td>\n",
       "      <td>5</td>\n",
       "      <td>1</td>\n",
       "      <td>99</td>\n",
       "      <td>General</td>\n",
       "      <td>Jackets</td>\n",
       "      <td>Outerwear</td>\n",
       "    </tr>\n",
       "    <tr>\n",
       "      <th>4</th>\n",
       "      <td>1078</td>\n",
       "      <td>23</td>\n",
       "      <td>Super flattering, beautiful dress</td>\n",
       "      <td>This is my favorite dress i've bought in the p...</td>\n",
       "      <td>5</td>\n",
       "      <td>1</td>\n",
       "      <td>98</td>\n",
       "      <td>General</td>\n",
       "      <td>Dresses</td>\n",
       "      <td>Dresses</td>\n",
       "    </tr>\n",
       "  </tbody>\n",
       "</table>\n",
       "</div>"
      ],
      "text/plain": [
       "   clothing_id  age                                 title  \\\n",
       "0         1092   34  Beware if you're fuller in the chest   \n",
       "1         1095   29                                   NaN   \n",
       "2          986   43           Quality does not merit cost   \n",
       "3         1121   35                    A navy trench-yes!   \n",
       "4         1078   23     Super flattering, beautiful dress   \n",
       "\n",
       "                                         review_text  rating  recommended_ind  \\\n",
       "0  I loved the lace detailing all over this dress...       3                1   \n",
       "1  I've been on the hunt for the perfect dress to...       5                1   \n",
       "2  I generally don't write bad reviews, but there...       1                0   \n",
       "3  I am a big fan of trench coats and i love that...       5                1   \n",
       "4  This is my favorite dress i've bought in the p...       5                1   \n",
       "\n",
       "   positive_feedback_count division_name department_name class_name  \n",
       "0                      122       General         Dresses    Dresses  \n",
       "1                      117       General         Dresses    Dresses  \n",
       "2                      108       General         Jackets    Jackets  \n",
       "3                       99       General         Jackets  Outerwear  \n",
       "4                       98       General         Dresses    Dresses  "
      ]
     },
     "execution_count": 32,
     "metadata": {},
     "output_type": "execute_result"
    }
   ],
   "source": [
    "df_popular_reviews = df[df.positive_feedback_count >= 5].sort_values(by=\"positive_feedback_count\", ascending=False).reset_index(drop=True)\n",
    "df_popular_reviews.head(5)"
   ]
  },
  {
   "cell_type": "code",
   "execution_count": 33,
   "metadata": {},
   "outputs": [
    {
     "data": {
      "text/plain": [
       "(3719, 10)"
      ]
     },
     "execution_count": 33,
     "metadata": {},
     "output_type": "execute_result"
    }
   ],
   "source": [
    "df_popular_reviews.shape"
   ]
  },
  {
   "cell_type": "code",
   "execution_count": null,
   "metadata": {},
   "outputs": [],
   "source": []
  },
  {
   "cell_type": "markdown",
   "metadata": {},
   "source": [
    "- no more null values for review_text"
   ]
  },
  {
   "cell_type": "code",
   "execution_count": 34,
   "metadata": {},
   "outputs": [
    {
     "data": {
      "text/plain": [
       "clothing_id                  0\n",
       "age                          0\n",
       "title                      472\n",
       "review_text                  0\n",
       "rating                       0\n",
       "recommended_ind              0\n",
       "positive_feedback_count      0\n",
       "division_name                1\n",
       "department_name              1\n",
       "class_name                   1\n",
       "dtype: int64"
      ]
     },
     "execution_count": 34,
     "metadata": {},
     "output_type": "execute_result"
    }
   ],
   "source": [
    "df_popular_reviews.isnull().sum()"
   ]
  },
  {
   "cell_type": "code",
   "execution_count": 35,
   "metadata": {},
   "outputs": [
    {
     "data": {
      "text/plain": [
       "1078    160\n",
       "1094    138\n",
       "862     127\n",
       "1110    117\n",
       "1081    107\n",
       "829      84\n",
       "872      80\n",
       "868      75\n",
       "1086     70\n",
       "1095     69\n",
       "Name: clothing_id, dtype: int64"
      ]
     },
     "execution_count": 35,
     "metadata": {},
     "output_type": "execute_result"
    }
   ],
   "source": [
    "df_popular_reviews.clothing_id.value_counts().head(10)"
   ]
  },
  {
   "cell_type": "code",
   "execution_count": 36,
   "metadata": {},
   "outputs": [
    {
     "data": {
      "text/plain": [
       "440"
      ]
     },
     "execution_count": 36,
     "metadata": {},
     "output_type": "execute_result"
    }
   ],
   "source": [
    "df_popular_reviews.clothing_id.nunique()"
   ]
  },
  {
   "cell_type": "code",
   "execution_count": null,
   "metadata": {},
   "outputs": [],
   "source": []
  },
  {
   "cell_type": "code",
   "execution_count": 37,
   "metadata": {},
   "outputs": [
    {
     "data": {
      "text/plain": [
       "<matplotlib.axes._subplots.AxesSubplot at 0x225c52da3d0>"
      ]
     },
     "execution_count": 37,
     "metadata": {},
     "output_type": "execute_result"
    },
    {
     "data": {
      "image/png": "[encoded data removed]",
      "text/plain": [
       "<Figure size 432x288 with 1 Axes>"
      ]
     },
     "metadata": {},
     "output_type": "display_data"
    }
   ],
   "source": [
    "negative_reviews = df_popular_reviews[df_popular_reviews.recommended_ind == 0]\n",
    "negative_reviews.age.hist()"
   ]
  },
  {
   "cell_type": "code",
   "execution_count": 38,
   "metadata": {},
   "outputs": [
    {
     "data": {
      "text/plain": [
       "43.07836644591612"
      ]
     },
     "execution_count": 38,
     "metadata": {},
     "output_type": "execute_result"
    }
   ],
   "source": [
    "negative_reviews.age.mean()"
   ]
  },
  {
   "cell_type": "code",
   "execution_count": 39,
   "metadata": {},
   "outputs": [
    {
     "data": {
      "text/plain": [
       "<seaborn.axisgrid.FacetGrid at 0x225c63bdbe0>"
      ]
     },
     "execution_count": 39,
     "metadata": {},
     "output_type": "execute_result"
    },
    {
     "data": {
      "image/png": "[encoded data removed]",
      "text/plain": [
       "<Figure size 360x360 with 1 Axes>"
      ]
     },
     "metadata": {},
     "output_type": "display_data"
    }
   ],
   "source": [
    "sns.catplot(kind=\"box\", data=negative_reviews, x=\"department_name\", y=\"age\")"
   ]
  },
  {
   "cell_type": "code",
   "execution_count": 40,
   "metadata": {},
   "outputs": [
    {
     "data": {
      "text/plain": [
       "<seaborn.axisgrid.FacetGrid at 0x225c519f2b0>"
      ]
     },
     "execution_count": 40,
     "metadata": {},
     "output_type": "execute_result"
    },
    {
     "data": {
      "image/png": "[encoded data removed]",
      "text/plain": [
       "<Figure size 360x360 with 1 Axes>"
      ]
     },
     "metadata": {},
     "output_type": "display_data"
    }
   ],
   "source": [
    "positive_reviews = df_popular_reviews[df_popular_reviews.recommended_ind == 1]\n",
    "sns.catplot(kind=\"box\", data=positive_reviews, x=\"department_name\", y=\"age\")"
   ]
  },
  {
   "cell_type": "code",
   "execution_count": 41,
   "metadata": {},
   "outputs": [
    {
     "data": {
      "text/plain": [
       "Tops        0.241594\n",
       "Dresses     0.251295\n",
       "Bottoms     0.219780\n",
       "Intimate    0.243902\n",
       "Jackets     0.261111\n",
       "Trend       0.434783\n",
       "Name: department_name, dtype: float64"
      ]
     },
     "execution_count": 41,
     "metadata": {},
     "output_type": "execute_result"
    }
   ],
   "source": [
    "negative_reviews.department_name.value_counts() / (df_popular_reviews.department_name.value_counts())"
   ]
  },
  {
   "cell_type": "code",
   "execution_count": null,
   "metadata": {},
   "outputs": [],
   "source": []
  },
  {
   "cell_type": "markdown",
   "metadata": {},
   "source": [
    "- Bottoms have the lowest percentage of all bad reviews. \"Trend\" appears to be a small group of uncategorized reviews."
   ]
  },
  {
   "cell_type": "markdown",
   "metadata": {},
   "source": [
    "### Adding features\n",
    "\n",
    "- The \"recommended_ind_%\" column is set up below as the average of the recommendations for each product. This, combined with the number of reviews of each product, helps to better visualize the distribution of recommendations.\n",
    "- \"num_reviews\" is the total number of reviews for the product"
   ]
  },
  {
   "cell_type": "code",
   "execution_count": 42,
   "metadata": {},
   "outputs": [],
   "source": [
    "ind_val = []\n",
    "memo = {} # neat, saves time here\n",
    "\n",
    "for i in df_popular_reviews.clothing_id:\n",
    "    if i not in memo.keys():\n",
    "        x = df_popular_reviews[df_popular_reviews.clothing_id == i].recommended_ind\n",
    "        ind_val.append(x.sum()/x.count())\n",
    "        memo[i] = x.sum()/x.count()\n",
    "    else:\n",
    "        ind_val.append(memo[i])"
   ]
  },
  {
   "cell_type": "code",
   "execution_count": 43,
   "metadata": {},
   "outputs": [
    {
     "data": {
      "text/plain": [
       "0    0.717949\n",
       "1    0.724638\n",
       "2    0.250000\n",
       "3    0.888889\n",
       "4    0.781250\n",
       "Name: recommended_ind_%, dtype: float64"
      ]
     },
     "execution_count": 43,
     "metadata": {},
     "output_type": "execute_result"
    }
   ],
   "source": [
    "df_popular_reviews[\"recommended_ind_%\"] = ind_val\n",
    "df_popular_reviews[\"recommended_ind_%\"].head()"
   ]
  },
  {
   "cell_type": "code",
   "execution_count": 44,
   "metadata": {},
   "outputs": [],
   "source": [
    "df_popular_reviews.review_text = [i.replace(\"\\n\", \" \") for i in df_popular_reviews.review_text]"
   ]
  },
  {
   "cell_type": "code",
   "execution_count": 45,
   "metadata": {},
   "outputs": [],
   "source": [
    "df_popular_reviews[\"num_reviews\"] = [df_popular_reviews.clothing_id.value_counts()[i] for i in df_popular_reviews.clothing_id]"
   ]
  },
  {
   "cell_type": "code",
   "execution_count": 46,
   "metadata": {},
   "outputs": [
    {
     "data": {
      "text/html": [
       "<div>\n",
       "<style scoped>\n",
       "    .dataframe tbody tr th:only-of-type {\n",
       "        vertical-align: middle;\n",
       "    }\n",
       "\n",
       "    .dataframe tbody tr th {\n",
       "        vertical-align: top;\n",
       "    }\n",
       "\n",
       "    .dataframe thead th {\n",
       "        text-align: right;\n",
       "    }\n",
       "</style>\n",
       "<table border=\"1\" class=\"dataframe\">\n",
       "  <thead>\n",
       "    <tr style=\"text-align: right;\">\n",
       "      <th></th>\n",
       "      <th>clothing_id</th>\n",
       "      <th>age</th>\n",
       "      <th>title</th>\n",
       "      <th>review_text</th>\n",
       "      <th>rating</th>\n",
       "      <th>recommended_ind</th>\n",
       "      <th>positive_feedback_count</th>\n",
       "      <th>division_name</th>\n",
       "      <th>department_name</th>\n",
       "      <th>class_name</th>\n",
       "      <th>recommended_ind_%</th>\n",
       "      <th>num_reviews</th>\n",
       "    </tr>\n",
       "  </thead>\n",
       "  <tbody>\n",
       "    <tr>\n",
       "      <th>0</th>\n",
       "      <td>1092</td>\n",
       "      <td>34</td>\n",
       "      <td>Beware if you're fuller in the chest</td>\n",
       "      <td>I loved the lace detailing all over this dress...</td>\n",
       "      <td>3</td>\n",
       "      <td>1</td>\n",
       "      <td>122</td>\n",
       "      <td>General</td>\n",
       "      <td>Dresses</td>\n",
       "      <td>Dresses</td>\n",
       "      <td>0.717949</td>\n",
       "      <td>39</td>\n",
       "    </tr>\n",
       "    <tr>\n",
       "      <th>1</th>\n",
       "      <td>1095</td>\n",
       "      <td>29</td>\n",
       "      <td>NaN</td>\n",
       "      <td>I've been on the hunt for the perfect dress to...</td>\n",
       "      <td>5</td>\n",
       "      <td>1</td>\n",
       "      <td>117</td>\n",
       "      <td>General</td>\n",
       "      <td>Dresses</td>\n",
       "      <td>Dresses</td>\n",
       "      <td>0.724638</td>\n",
       "      <td>69</td>\n",
       "    </tr>\n",
       "    <tr>\n",
       "      <th>2</th>\n",
       "      <td>986</td>\n",
       "      <td>43</td>\n",
       "      <td>Quality does not merit cost</td>\n",
       "      <td>I generally don't write bad reviews, but there...</td>\n",
       "      <td>1</td>\n",
       "      <td>0</td>\n",
       "      <td>108</td>\n",
       "      <td>General</td>\n",
       "      <td>Jackets</td>\n",
       "      <td>Jackets</td>\n",
       "      <td>0.250000</td>\n",
       "      <td>8</td>\n",
       "    </tr>\n",
       "    <tr>\n",
       "      <th>3</th>\n",
       "      <td>1121</td>\n",
       "      <td>35</td>\n",
       "      <td>A navy trench-yes!</td>\n",
       "      <td>I am a big fan of trench coats and i love that...</td>\n",
       "      <td>5</td>\n",
       "      <td>1</td>\n",
       "      <td>99</td>\n",
       "      <td>General</td>\n",
       "      <td>Jackets</td>\n",
       "      <td>Outerwear</td>\n",
       "      <td>0.888889</td>\n",
       "      <td>9</td>\n",
       "    </tr>\n",
       "    <tr>\n",
       "      <th>4</th>\n",
       "      <td>1078</td>\n",
       "      <td>23</td>\n",
       "      <td>Super flattering, beautiful dress</td>\n",
       "      <td>This is my favorite dress i've bought in the p...</td>\n",
       "      <td>5</td>\n",
       "      <td>1</td>\n",
       "      <td>98</td>\n",
       "      <td>General</td>\n",
       "      <td>Dresses</td>\n",
       "      <td>Dresses</td>\n",
       "      <td>0.781250</td>\n",
       "      <td>160</td>\n",
       "    </tr>\n",
       "  </tbody>\n",
       "</table>\n",
       "</div>"
      ],
      "text/plain": [
       "   clothing_id  age                                 title  \\\n",
       "0         1092   34  Beware if you're fuller in the chest   \n",
       "1         1095   29                                   NaN   \n",
       "2          986   43           Quality does not merit cost   \n",
       "3         1121   35                    A navy trench-yes!   \n",
       "4         1078   23     Super flattering, beautiful dress   \n",
       "\n",
       "                                         review_text  rating  recommended_ind  \\\n",
       "0  I loved the lace detailing all over this dress...       3                1   \n",
       "1  I've been on the hunt for the perfect dress to...       5                1   \n",
       "2  I generally don't write bad reviews, but there...       1                0   \n",
       "3  I am a big fan of trench coats and i love that...       5                1   \n",
       "4  This is my favorite dress i've bought in the p...       5                1   \n",
       "\n",
       "   positive_feedback_count division_name department_name class_name  \\\n",
       "0                      122       General         Dresses    Dresses   \n",
       "1                      117       General         Dresses    Dresses   \n",
       "2                      108       General         Jackets    Jackets   \n",
       "3                       99       General         Jackets  Outerwear   \n",
       "4                       98       General         Dresses    Dresses   \n",
       "\n",
       "   recommended_ind_%  num_reviews  \n",
       "0           0.717949           39  \n",
       "1           0.724638           69  \n",
       "2           0.250000            8  \n",
       "3           0.888889            9  \n",
       "4           0.781250          160  "
      ]
     },
     "execution_count": 46,
     "metadata": {},
     "output_type": "execute_result"
    }
   ],
   "source": [
    "df_popular_reviews.head()"
   ]
  },
  {
   "cell_type": "code",
   "execution_count": 47,
   "metadata": {},
   "outputs": [
    {
     "data": {
      "image/png": "[encoded data removed]",
      "text/plain": [
       "<Figure size 360x360 with 1 Axes>"
      ]
     },
     "metadata": {},
     "output_type": "display_data"
    },
    {
     "data": {
      "text/plain": [
       "Text(0, 0.5, 'count')"
      ]
     },
     "execution_count": 47,
     "metadata": {},
     "output_type": "execute_result"
    },
    {
     "data": {
      "image/png": "[encoded data removed]",
      "text/plain": [
       "<Figure size 432x288 with 1 Axes>"
      ]
     },
     "metadata": {},
     "output_type": "display_data"
    }
   ],
   "source": [
    "sns.lmplot(data=df_popular_reviews, x='recommended_ind_%', y=\"num_reviews\", fit_reg=False)\n",
    "plt.show()\n",
    "df_popular_reviews['recommended_ind_%'].hist(bins=15)\n",
    "plt.xlabel('recommended_ind_%')\n",
    "plt.ylabel(\"count\")"
   ]
  },
  {
   "cell_type": "code",
   "execution_count": null,
   "metadata": {},
   "outputs": [],
   "source": []
  },
  {
   "cell_type": "markdown",
   "metadata": {},
   "source": [
    "- There are far more reviews from people recommending a product than from people not recommending one. The number of reviews is a fair indicator of whether a product will be recommended or not, although the most highly-recommended products do not have many reviews. There seems to be a spike in product reviews at about 80% recommended. \n",
    "- The data is left skewed, and the dataset may be too small to get a good understanding of negative reviews"
   ]
  },
  {
   "cell_type": "code",
   "execution_count": null,
   "metadata": {},
   "outputs": [],
   "source": []
  },
  {
   "cell_type": "markdown",
   "metadata": {},
   "source": [
    "- Removing punctuation and stemming the review texts"
   ]
  },
  {
   "cell_type": "code",
   "execution_count": 48,
   "metadata": {},
   "outputs": [
    {
     "data": {
      "text/plain": [
       "\"I loved the lace detailing all over this dress and the fact it had pockets and was mostly cotton. it just looked so inviting, so i grabbed two sizes to try on (10 & 12) that 99% of the time fit me with retailer clothes. here are my thoughts: __________ pros: - lace detailing is lovely all over. - everything runs tts except at the bust (see below). - breathable fabric, comfortable. _________ cons: - i'm a 36c and could not button the top two buttons of this dress in a size 10 (i'm 5'9, hourglass, a\""
      ]
     },
     "execution_count": 48,
     "metadata": {},
     "output_type": "execute_result"
    }
   ],
   "source": [
    "reviews = df_popular_reviews.review_text\n",
    "reviews[0]"
   ]
  },
  {
   "cell_type": "code",
   "execution_count": 49,
   "metadata": {},
   "outputs": [
    {
     "data": {
      "text/plain": [
       "'I loved the lace detailing all over this dress and the fact it had pockets and was mostly cotton it just looked so inviting, so i grabbed two sizes to try on 10 & 12 that 99% of the time fit me with retailer clothes here are my thoughts  pros  lace detailing is lovely all over  everything runs tts except at the bust see below  breathable fabric, comfortable  cons  im a 36c and could not button the top two buttons of this dress in a size 10 im 59, hourglass, a'"
      ]
     },
     "execution_count": 49,
     "metadata": {},
     "output_type": "execute_result"
    }
   ],
   "source": [
    "def remove_punct (text):\n",
    "    for ch in ['\\\\','`','*','_','{','}','[',']','(',')','>','#','+','-','.','!','$','\\'', ':']:\n",
    "        if ch in text:\n",
    "            text = text.replace(ch,\"\")\n",
    "    return text\n",
    "remove_punct(reviews[0])"
   ]
  },
  {
   "cell_type": "code",
   "execution_count": 50,
   "metadata": {},
   "outputs": [
    {
     "data": {
      "text/plain": [
       "'i love the lace detail all over this dress and the fact it had pocket and was most cotton it just look so inviting, so i grab two size to tri on 10 & 12 that 99% of the time fit me with retail cloth here are my thought  pros  lace detail is love all over  everyth run tts except at the bust see below  breathabl fabric, comfort  con  im a 36c and could not button the top two button of this dress in a size 10 im 59, hourglass, a'"
      ]
     },
     "execution_count": 50,
     "metadata": {},
     "output_type": "execute_result"
    }
   ],
   "source": [
    "from nltk.stem.snowball import SnowballStemmer\n",
    "\n",
    "stemmer = SnowballStemmer(\"english\")\n",
    "\n",
    "reviews_stemmed = []\n",
    "for review in reviews:\n",
    "    reviews_stemmed.append(' '.join([stemmer.stem(i) for i in remove_punct(review).split(' ')]))\n",
    "reviews_stemmed[0]"
   ]
  },
  {
   "cell_type": "code",
   "execution_count": null,
   "metadata": {},
   "outputs": [],
   "source": []
  },
  {
   "cell_type": "markdown",
   "metadata": {},
   "source": [
    "- Making a function to vectorize, since it needs to be applied to both the reviews of the recommended products and those of the not-recommended ones"
   ]
  },
  {
   "cell_type": "code",
   "execution_count": 51,
   "metadata": {},
   "outputs": [],
   "source": [
    "from sklearn.feature_extraction.text import TfidfVectorizer, ENGLISH_STOP_WORDS"
   ]
  },
  {
   "cell_type": "code",
   "execution_count": 52,
   "metadata": {},
   "outputs": [],
   "source": [
    "def make_tfidf_df (str_arr, custom_stop_words = []):\n",
    "    tfidf = TfidfVectorizer(\n",
    "        stop_words = ENGLISH_STOP_WORDS.union(custom_stop_words), \n",
    "        max_features=150, \n",
    "        min_df=.005,\n",
    "        ngram_range=(1,2)\n",
    "    )\n",
    "    review_data = tfidf.fit_transform(str_arr)\n",
    "    return pd.DataFrame(review_data.todense(), columns=tfidf.get_feature_names())"
   ]
  },
  {
   "cell_type": "code",
   "execution_count": null,
   "metadata": {},
   "outputs": [],
   "source": []
  },
  {
   "cell_type": "markdown",
   "metadata": {},
   "source": [
    "- Separating negative reviews and positive reviews"
   ]
  },
  {
   "cell_type": "code",
   "execution_count": 53,
   "metadata": {},
   "outputs": [
    {
     "name": "stdout",
     "output_type": "stream",
     "text": [
      "yes: 2813\n",
      "no: 906\n"
     ]
    }
   ],
   "source": [
    "recommended = df_popular_reviews[df_popular_reviews.recommended_ind == 1]\n",
    "not_recommended = df_popular_reviews[df_popular_reviews.recommended_ind == 0]\n",
    "print(f'yes: {len(recommended)}')\n",
    "print(f'no: {len(not_recommended)}')"
   ]
  },
  {
   "cell_type": "code",
   "execution_count": null,
   "metadata": {},
   "outputs": [],
   "source": []
  },
  {
   "cell_type": "markdown",
   "metadata": {},
   "source": [
    "Positive:"
   ]
  },
  {
   "cell_type": "code",
   "execution_count": 54,
   "metadata": {},
   "outputs": [
    {
     "data": {
      "text/plain": [
       "\"I loved the lace detailing all over this dress and the fact it had pockets and was mostly cotton. it just looked so inviting, so i grabbed two sizes to try on (10 & 12) that 99% of the time fit me with retailer clothes. here are my thoughts: __________ pros: - lace detailing is lovely all over. - everything runs tts except at the bust (see below). - breathable fabric, comfortable. _________ cons: - i'm a 36c and could not button the top two buttons of this dress in a size 10 (i'm 5'9, hourglass, a\""
      ]
     },
     "execution_count": 54,
     "metadata": {},
     "output_type": "execute_result"
    }
   ],
   "source": [
    "rec_reviews = recommended.review_text.reset_index(drop=True)\n",
    "rec_reviews[0]"
   ]
  },
  {
   "cell_type": "code",
   "execution_count": 55,
   "metadata": {},
   "outputs": [
    {
     "data": {
      "text/plain": [
       "'i love the lace detail all over this dress and the fact it had pocket and was most cotton it just look so inviting, so i grab two size to tri on 10 & 12 that 99% of the time fit me with retail cloth here are my thought  pros  lace detail is love all over  everyth run tts except at the bust see below  breathabl fabric, comfort  con  im a 36c and could not button the top two button of this dress in a size 10 im 59, hourglass, a'"
      ]
     },
     "execution_count": 55,
     "metadata": {},
     "output_type": "execute_result"
    }
   ],
   "source": [
    "reviews_stemmed = []\n",
    "for review in rec_reviews:\n",
    "    reviews_stemmed.append(' '.join([stemmer.stem(i) for i in remove_punct(review).split(' ')]))\n",
    "reviews_stemmed[0]"
   ]
  },
  {
   "cell_type": "code",
   "execution_count": 56,
   "metadata": {},
   "outputs": [
    {
     "data": {
      "text/html": [
       "<div>\n",
       "<style scoped>\n",
       "    .dataframe tbody tr th:only-of-type {\n",
       "        vertical-align: middle;\n",
       "    }\n",
       "\n",
       "    .dataframe tbody tr th {\n",
       "        vertical-align: top;\n",
       "    }\n",
       "\n",
       "    .dataframe thead th {\n",
       "        text-align: right;\n",
       "    }\n",
       "</style>\n",
       "<table border=\"1\" class=\"dataframe\">\n",
       "  <thead>\n",
       "    <tr style=\"text-align: right;\">\n",
       "      <th></th>\n",
       "      <th>absolut</th>\n",
       "      <th>actual</th>\n",
       "      <th>ani</th>\n",
       "      <th>area</th>\n",
       "      <th>arm</th>\n",
       "      <th>beauti</th>\n",
       "      <th>becaus</th>\n",
       "      <th>better</th>\n",
       "      <th>big</th>\n",
       "      <th>bit</th>\n",
       "      <th>...</th>\n",
       "      <th>wash</th>\n",
       "      <th>way</th>\n",
       "      <th>wear</th>\n",
       "      <th>weight</th>\n",
       "      <th>went</th>\n",
       "      <th>white</th>\n",
       "      <th>wish</th>\n",
       "      <th>work</th>\n",
       "      <th>worn</th>\n",
       "      <th>xs</th>\n",
       "    </tr>\n",
       "  </thead>\n",
       "  <tbody>\n",
       "    <tr>\n",
       "      <th>0</th>\n",
       "      <td>0.0</td>\n",
       "      <td>0.0</td>\n",
       "      <td>0.0</td>\n",
       "      <td>0.0</td>\n",
       "      <td>0.0</td>\n",
       "      <td>0.0</td>\n",
       "      <td>0.000000</td>\n",
       "      <td>0.0</td>\n",
       "      <td>0.000000</td>\n",
       "      <td>0.0</td>\n",
       "      <td>...</td>\n",
       "      <td>0.000000</td>\n",
       "      <td>0.0</td>\n",
       "      <td>0.000000</td>\n",
       "      <td>0.0</td>\n",
       "      <td>0.0</td>\n",
       "      <td>0.0</td>\n",
       "      <td>0.0</td>\n",
       "      <td>0.000000</td>\n",
       "      <td>0.000000</td>\n",
       "      <td>0.0</td>\n",
       "    </tr>\n",
       "    <tr>\n",
       "      <th>1</th>\n",
       "      <td>0.0</td>\n",
       "      <td>0.0</td>\n",
       "      <td>0.0</td>\n",
       "      <td>0.0</td>\n",
       "      <td>0.0</td>\n",
       "      <td>0.0</td>\n",
       "      <td>0.000000</td>\n",
       "      <td>0.0</td>\n",
       "      <td>0.000000</td>\n",
       "      <td>0.0</td>\n",
       "      <td>...</td>\n",
       "      <td>0.000000</td>\n",
       "      <td>0.0</td>\n",
       "      <td>0.356352</td>\n",
       "      <td>0.0</td>\n",
       "      <td>0.0</td>\n",
       "      <td>0.0</td>\n",
       "      <td>0.0</td>\n",
       "      <td>0.000000</td>\n",
       "      <td>0.000000</td>\n",
       "      <td>0.0</td>\n",
       "    </tr>\n",
       "    <tr>\n",
       "      <th>2</th>\n",
       "      <td>0.0</td>\n",
       "      <td>0.0</td>\n",
       "      <td>0.0</td>\n",
       "      <td>0.0</td>\n",
       "      <td>0.0</td>\n",
       "      <td>0.0</td>\n",
       "      <td>0.232409</td>\n",
       "      <td>0.0</td>\n",
       "      <td>0.279839</td>\n",
       "      <td>0.0</td>\n",
       "      <td>...</td>\n",
       "      <td>0.000000</td>\n",
       "      <td>0.0</td>\n",
       "      <td>0.000000</td>\n",
       "      <td>0.0</td>\n",
       "      <td>0.0</td>\n",
       "      <td>0.0</td>\n",
       "      <td>0.0</td>\n",
       "      <td>0.000000</td>\n",
       "      <td>0.000000</td>\n",
       "      <td>0.0</td>\n",
       "    </tr>\n",
       "    <tr>\n",
       "      <th>3</th>\n",
       "      <td>0.0</td>\n",
       "      <td>0.0</td>\n",
       "      <td>0.0</td>\n",
       "      <td>0.0</td>\n",
       "      <td>0.0</td>\n",
       "      <td>0.0</td>\n",
       "      <td>0.000000</td>\n",
       "      <td>0.0</td>\n",
       "      <td>0.000000</td>\n",
       "      <td>0.0</td>\n",
       "      <td>...</td>\n",
       "      <td>0.000000</td>\n",
       "      <td>0.0</td>\n",
       "      <td>0.307816</td>\n",
       "      <td>0.0</td>\n",
       "      <td>0.0</td>\n",
       "      <td>0.0</td>\n",
       "      <td>0.0</td>\n",
       "      <td>0.232488</td>\n",
       "      <td>0.283324</td>\n",
       "      <td>0.0</td>\n",
       "    </tr>\n",
       "    <tr>\n",
       "      <th>4</th>\n",
       "      <td>0.0</td>\n",
       "      <td>0.0</td>\n",
       "      <td>0.0</td>\n",
       "      <td>0.0</td>\n",
       "      <td>0.0</td>\n",
       "      <td>0.0</td>\n",
       "      <td>0.000000</td>\n",
       "      <td>0.0</td>\n",
       "      <td>0.000000</td>\n",
       "      <td>0.0</td>\n",
       "      <td>...</td>\n",
       "      <td>0.257973</td>\n",
       "      <td>0.0</td>\n",
       "      <td>0.000000</td>\n",
       "      <td>0.0</td>\n",
       "      <td>0.0</td>\n",
       "      <td>0.0</td>\n",
       "      <td>0.0</td>\n",
       "      <td>0.000000</td>\n",
       "      <td>0.000000</td>\n",
       "      <td>0.0</td>\n",
       "    </tr>\n",
       "  </tbody>\n",
       "</table>\n",
       "<p>5 rows × 150 columns</p>\n",
       "</div>"
      ],
      "text/plain": [
       "   absolut  actual  ani  area  arm  beauti    becaus  better       big  bit  \\\n",
       "0      0.0     0.0  0.0   0.0  0.0     0.0  0.000000     0.0  0.000000  0.0   \n",
       "1      0.0     0.0  0.0   0.0  0.0     0.0  0.000000     0.0  0.000000  0.0   \n",
       "2      0.0     0.0  0.0   0.0  0.0     0.0  0.232409     0.0  0.279839  0.0   \n",
       "3      0.0     0.0  0.0   0.0  0.0     0.0  0.000000     0.0  0.000000  0.0   \n",
       "4      0.0     0.0  0.0   0.0  0.0     0.0  0.000000     0.0  0.000000  0.0   \n",
       "\n",
       "   ...      wash  way      wear  weight  went  white  wish      work  \\\n",
       "0  ...  0.000000  0.0  0.000000     0.0   0.0    0.0   0.0  0.000000   \n",
       "1  ...  0.000000  0.0  0.356352     0.0   0.0    0.0   0.0  0.000000   \n",
       "2  ...  0.000000  0.0  0.000000     0.0   0.0    0.0   0.0  0.000000   \n",
       "3  ...  0.000000  0.0  0.307816     0.0   0.0    0.0   0.0  0.232488   \n",
       "4  ...  0.257973  0.0  0.000000     0.0   0.0    0.0   0.0  0.000000   \n",
       "\n",
       "       worn   xs  \n",
       "0  0.000000  0.0  \n",
       "1  0.000000  0.0  \n",
       "2  0.000000  0.0  \n",
       "3  0.283324  0.0  \n",
       "4  0.000000  0.0  \n",
       "\n",
       "[5 rows x 150 columns]"
      ]
     },
     "execution_count": 56,
     "metadata": {},
     "output_type": "execute_result"
    }
   ],
   "source": [
    "pos_reviews_tfidf = make_tfidf_df(reviews_stemmed)\n",
    "pos_reviews_tfidf.head()"
   ]
  },
  {
   "cell_type": "code",
   "execution_count": null,
   "metadata": {},
   "outputs": [],
   "source": []
  },
  {
   "cell_type": "markdown",
   "metadata": {},
   "source": [
    "Negative:"
   ]
  },
  {
   "cell_type": "code",
   "execution_count": 57,
   "metadata": {},
   "outputs": [
    {
     "data": {
      "text/plain": [
       "\"I generally don't write bad reviews, but there is a real discrepancy between the quality of this kimono and the cost. the design and colors are great, but the fabric is ripping on all the kimonos on the rack in my store where the manufacturer's tag is at the back of the neck. the material is very thin, so there are other small holes beginning throughout the garment. i shop at retailer all the time, and this is not a $98 item of clothing.\""
      ]
     },
     "execution_count": 57,
     "metadata": {},
     "output_type": "execute_result"
    }
   ],
   "source": [
    "not_rec_reviews = not_recommended.review_text.reset_index(drop=True)\n",
    "not_rec_reviews[0]"
   ]
  },
  {
   "cell_type": "code",
   "execution_count": 58,
   "metadata": {},
   "outputs": [
    {
     "data": {
      "text/plain": [
       "'i general dont write bad reviews, but there is a real discrep between the qualiti of this kimono and the cost the design and color are great, but the fabric is rip on all the kimono on the rack in my store where the manufactur tag is at the back of the neck the materi is veri thin, so there are other small hole begin throughout the garment i shop at retail all the time, and this is not a 98 item of cloth'"
      ]
     },
     "execution_count": 58,
     "metadata": {},
     "output_type": "execute_result"
    }
   ],
   "source": [
    "reviews_stemmed = []\n",
    "for review in not_rec_reviews:\n",
    "    reviews_stemmed.append(' '.join([stemmer.stem(i) for i in remove_punct(review).split(' ')]))\n",
    "reviews_stemmed[0]"
   ]
  },
  {
   "cell_type": "code",
   "execution_count": 59,
   "metadata": {},
   "outputs": [
    {
     "data": {
      "text/html": [
       "<div>\n",
       "<style scoped>\n",
       "    .dataframe tbody tr th:only-of-type {\n",
       "        vertical-align: middle;\n",
       "    }\n",
       "\n",
       "    .dataframe tbody tr th {\n",
       "        vertical-align: top;\n",
       "    }\n",
       "\n",
       "    .dataframe thead th {\n",
       "        text-align: right;\n",
       "    }\n",
       "</style>\n",
       "<table border=\"1\" class=\"dataframe\">\n",
       "  <thead>\n",
       "    <tr style=\"text-align: right;\">\n",
       "      <th></th>\n",
       "      <th>actual</th>\n",
       "      <th>ani</th>\n",
       "      <th>area</th>\n",
       "      <th>arm</th>\n",
       "      <th>bad</th>\n",
       "      <th>beauti</th>\n",
       "      <th>becaus</th>\n",
       "      <th>better</th>\n",
       "      <th>big</th>\n",
       "      <th>bit</th>\n",
       "      <th>...</th>\n",
       "      <th>want love</th>\n",
       "      <th>wash</th>\n",
       "      <th>wasnt</th>\n",
       "      <th>way</th>\n",
       "      <th>wear</th>\n",
       "      <th>white</th>\n",
       "      <th>wide</th>\n",
       "      <th>work</th>\n",
       "      <th>worth</th>\n",
       "      <th>xs</th>\n",
       "    </tr>\n",
       "  </thead>\n",
       "  <tbody>\n",
       "    <tr>\n",
       "      <th>0</th>\n",
       "      <td>0.0</td>\n",
       "      <td>0.0</td>\n",
       "      <td>0.0</td>\n",
       "      <td>0.000000</td>\n",
       "      <td>0.30592</td>\n",
       "      <td>0.000000</td>\n",
       "      <td>0.00000</td>\n",
       "      <td>0.0</td>\n",
       "      <td>0.0</td>\n",
       "      <td>0.0</td>\n",
       "      <td>...</td>\n",
       "      <td>0.0</td>\n",
       "      <td>0.0</td>\n",
       "      <td>0.000000</td>\n",
       "      <td>0.0</td>\n",
       "      <td>0.000000</td>\n",
       "      <td>0.0</td>\n",
       "      <td>0.0</td>\n",
       "      <td>0.0</td>\n",
       "      <td>0.0</td>\n",
       "      <td>0.0</td>\n",
       "    </tr>\n",
       "    <tr>\n",
       "      <th>1</th>\n",
       "      <td>0.0</td>\n",
       "      <td>0.0</td>\n",
       "      <td>0.0</td>\n",
       "      <td>0.237092</td>\n",
       "      <td>0.00000</td>\n",
       "      <td>0.000000</td>\n",
       "      <td>0.00000</td>\n",
       "      <td>0.0</td>\n",
       "      <td>0.0</td>\n",
       "      <td>0.0</td>\n",
       "      <td>...</td>\n",
       "      <td>0.0</td>\n",
       "      <td>0.0</td>\n",
       "      <td>0.272247</td>\n",
       "      <td>0.0</td>\n",
       "      <td>0.000000</td>\n",
       "      <td>0.0</td>\n",
       "      <td>0.0</td>\n",
       "      <td>0.0</td>\n",
       "      <td>0.0</td>\n",
       "      <td>0.0</td>\n",
       "    </tr>\n",
       "    <tr>\n",
       "      <th>2</th>\n",
       "      <td>0.0</td>\n",
       "      <td>0.0</td>\n",
       "      <td>0.0</td>\n",
       "      <td>0.000000</td>\n",
       "      <td>0.00000</td>\n",
       "      <td>0.000000</td>\n",
       "      <td>0.00000</td>\n",
       "      <td>0.0</td>\n",
       "      <td>0.0</td>\n",
       "      <td>0.0</td>\n",
       "      <td>...</td>\n",
       "      <td>0.0</td>\n",
       "      <td>0.0</td>\n",
       "      <td>0.000000</td>\n",
       "      <td>0.0</td>\n",
       "      <td>0.188052</td>\n",
       "      <td>0.0</td>\n",
       "      <td>0.0</td>\n",
       "      <td>0.0</td>\n",
       "      <td>0.0</td>\n",
       "      <td>0.0</td>\n",
       "    </tr>\n",
       "    <tr>\n",
       "      <th>3</th>\n",
       "      <td>0.0</td>\n",
       "      <td>0.0</td>\n",
       "      <td>0.0</td>\n",
       "      <td>0.000000</td>\n",
       "      <td>0.00000</td>\n",
       "      <td>0.000000</td>\n",
       "      <td>0.00000</td>\n",
       "      <td>0.0</td>\n",
       "      <td>0.0</td>\n",
       "      <td>0.0</td>\n",
       "      <td>...</td>\n",
       "      <td>0.0</td>\n",
       "      <td>0.0</td>\n",
       "      <td>0.000000</td>\n",
       "      <td>0.0</td>\n",
       "      <td>0.116979</td>\n",
       "      <td>0.0</td>\n",
       "      <td>0.0</td>\n",
       "      <td>0.0</td>\n",
       "      <td>0.0</td>\n",
       "      <td>0.0</td>\n",
       "    </tr>\n",
       "    <tr>\n",
       "      <th>4</th>\n",
       "      <td>0.0</td>\n",
       "      <td>0.0</td>\n",
       "      <td>0.0</td>\n",
       "      <td>0.000000</td>\n",
       "      <td>0.00000</td>\n",
       "      <td>0.179485</td>\n",
       "      <td>0.15643</td>\n",
       "      <td>0.0</td>\n",
       "      <td>0.0</td>\n",
       "      <td>0.0</td>\n",
       "      <td>...</td>\n",
       "      <td>0.0</td>\n",
       "      <td>0.0</td>\n",
       "      <td>0.000000</td>\n",
       "      <td>0.0</td>\n",
       "      <td>0.266696</td>\n",
       "      <td>0.0</td>\n",
       "      <td>0.0</td>\n",
       "      <td>0.0</td>\n",
       "      <td>0.0</td>\n",
       "      <td>0.0</td>\n",
       "    </tr>\n",
       "  </tbody>\n",
       "</table>\n",
       "<p>5 rows × 150 columns</p>\n",
       "</div>"
      ],
      "text/plain": [
       "   actual  ani  area       arm      bad    beauti   becaus  better  big  bit  \\\n",
       "0     0.0  0.0   0.0  0.000000  0.30592  0.000000  0.00000     0.0  0.0  0.0   \n",
       "1     0.0  0.0   0.0  0.237092  0.00000  0.000000  0.00000     0.0  0.0  0.0   \n",
       "2     0.0  0.0   0.0  0.000000  0.00000  0.000000  0.00000     0.0  0.0  0.0   \n",
       "3     0.0  0.0   0.0  0.000000  0.00000  0.000000  0.00000     0.0  0.0  0.0   \n",
       "4     0.0  0.0   0.0  0.000000  0.00000  0.179485  0.15643     0.0  0.0  0.0   \n",
       "\n",
       "   ...  want love  wash     wasnt  way      wear  white  wide  work  worth  \\\n",
       "0  ...        0.0   0.0  0.000000  0.0  0.000000    0.0   0.0   0.0    0.0   \n",
       "1  ...        0.0   0.0  0.272247  0.0  0.000000    0.0   0.0   0.0    0.0   \n",
       "2  ...        0.0   0.0  0.000000  0.0  0.188052    0.0   0.0   0.0    0.0   \n",
       "3  ...        0.0   0.0  0.000000  0.0  0.116979    0.0   0.0   0.0    0.0   \n",
       "4  ...        0.0   0.0  0.000000  0.0  0.266696    0.0   0.0   0.0    0.0   \n",
       "\n",
       "    xs  \n",
       "0  0.0  \n",
       "1  0.0  \n",
       "2  0.0  \n",
       "3  0.0  \n",
       "4  0.0  \n",
       "\n",
       "[5 rows x 150 columns]"
      ]
     },
     "execution_count": 59,
     "metadata": {},
     "output_type": "execute_result"
    }
   ],
   "source": [
    "neg_reviews_tfidf = make_tfidf_df(reviews_stemmed)\n",
    "neg_reviews_tfidf.head()"
   ]
  },
  {
   "cell_type": "code",
   "execution_count": 60,
   "metadata": {},
   "outputs": [
    {
     "data": {
      "text/plain": [
       "{'absolut',\n",
       " 'buy',\n",
       " 'casual',\n",
       " 'comfort',\n",
       " 'day',\n",
       " 'drape',\n",
       " 'fit perfect',\n",
       " 'green',\n",
       " 'hit',\n",
       " 'jacket',\n",
       " 'knee',\n",
       " 'lace',\n",
       " 'longer',\n",
       " 'look great',\n",
       " 'love dress',\n",
       " 'mani',\n",
       " 'pocket',\n",
       " 'print',\n",
       " 'recommend',\n",
       " 'regular',\n",
       " 'slight',\n",
       " 'stretch',\n",
       " 'thing',\n",
       " 'true size',\n",
       " 'tts',\n",
       " 'usual size',\n",
       " 'weight',\n",
       " 'went',\n",
       " 'wish',\n",
       " 'worn'}"
      ]
     },
     "execution_count": 60,
     "metadata": {},
     "output_type": "execute_result"
    }
   ],
   "source": [
    "set(pos_reviews_tfidf.columns) - set(neg_reviews_tfidf.columns)"
   ]
  },
  {
   "cell_type": "code",
   "execution_count": 61,
   "metadata": {},
   "outputs": [
    {
     "data": {
      "text/plain": [
       "{'bad',\n",
       " 'boxi',\n",
       " 'cheap',\n",
       " 'complet',\n",
       " 'disappoint',\n",
       " 'excit',\n",
       " 'expect',\n",
       " 'felt',\n",
       " 'fine',\n",
       " 'hole',\n",
       " 'hope',\n",
       " 'howev',\n",
       " 'huge',\n",
       " 'isnt',\n",
       " 'ive',\n",
       " 'mayb',\n",
       " 'pull',\n",
       " 'realli want',\n",
       " 'receiv',\n",
       " 'sad',\n",
       " 'seam',\n",
       " 'sheer',\n",
       " 'shorter',\n",
       " 'someth',\n",
       " 'thought',\n",
       " 'unfortun',\n",
       " 'want love',\n",
       " 'wasnt',\n",
       " 'wide',\n",
       " 'worth'}"
      ]
     },
     "execution_count": 61,
     "metadata": {},
     "output_type": "execute_result"
    }
   ],
   "source": [
    "set(neg_reviews_tfidf.columns) - set(pos_reviews_tfidf.columns)"
   ]
  },
  {
   "cell_type": "code",
   "execution_count": null,
   "metadata": {},
   "outputs": [],
   "source": []
  },
  {
   "cell_type": "markdown",
   "metadata": {},
   "source": [
    "- The word lists above have not yet been t-tested"
   ]
  },
  {
   "cell_type": "code",
   "execution_count": 62,
   "metadata": {},
   "outputs": [],
   "source": [
    "y = df_popular_reviews[\"recommended_ind\"]"
   ]
  },
  {
   "cell_type": "code",
   "execution_count": 63,
   "metadata": {},
   "outputs": [
    {
     "data": {
      "text/html": [
       "<div>\n",
       "<style scoped>\n",
       "    .dataframe tbody tr th:only-of-type {\n",
       "        vertical-align: middle;\n",
       "    }\n",
       "\n",
       "    .dataframe tbody tr th {\n",
       "        vertical-align: top;\n",
       "    }\n",
       "\n",
       "    .dataframe thead th {\n",
       "        text-align: right;\n",
       "    }\n",
       "</style>\n",
       "<table border=\"1\" class=\"dataframe\">\n",
       "  <thead>\n",
       "    <tr style=\"text-align: right;\">\n",
       "      <th></th>\n",
       "      <th>actual</th>\n",
       "      <th>ani</th>\n",
       "      <th>area</th>\n",
       "      <th>arm</th>\n",
       "      <th>beauti</th>\n",
       "      <th>becaus</th>\n",
       "      <th>better</th>\n",
       "      <th>big</th>\n",
       "      <th>bit</th>\n",
       "      <th>black</th>\n",
       "      <th>...</th>\n",
       "      <th>want</th>\n",
       "      <th>wash</th>\n",
       "      <th>way</th>\n",
       "      <th>wear</th>\n",
       "      <th>weight</th>\n",
       "      <th>went</th>\n",
       "      <th>white</th>\n",
       "      <th>work</th>\n",
       "      <th>worn</th>\n",
       "      <th>xs</th>\n",
       "    </tr>\n",
       "  </thead>\n",
       "  <tbody>\n",
       "    <tr>\n",
       "      <th>0</th>\n",
       "      <td>0.0</td>\n",
       "      <td>0.0</td>\n",
       "      <td>0.0</td>\n",
       "      <td>0.0</td>\n",
       "      <td>0.0</td>\n",
       "      <td>0.000000</td>\n",
       "      <td>0.0</td>\n",
       "      <td>0.000000</td>\n",
       "      <td>0.0</td>\n",
       "      <td>0.0</td>\n",
       "      <td>...</td>\n",
       "      <td>0.0</td>\n",
       "      <td>0.0</td>\n",
       "      <td>0.0</td>\n",
       "      <td>0.000000</td>\n",
       "      <td>0.0</td>\n",
       "      <td>0.0</td>\n",
       "      <td>0.0</td>\n",
       "      <td>0.00000</td>\n",
       "      <td>0.000000</td>\n",
       "      <td>0.0</td>\n",
       "    </tr>\n",
       "    <tr>\n",
       "      <th>1</th>\n",
       "      <td>0.0</td>\n",
       "      <td>0.0</td>\n",
       "      <td>0.0</td>\n",
       "      <td>0.0</td>\n",
       "      <td>0.0</td>\n",
       "      <td>0.000000</td>\n",
       "      <td>0.0</td>\n",
       "      <td>0.000000</td>\n",
       "      <td>0.0</td>\n",
       "      <td>0.0</td>\n",
       "      <td>...</td>\n",
       "      <td>0.0</td>\n",
       "      <td>0.0</td>\n",
       "      <td>0.0</td>\n",
       "      <td>0.360887</td>\n",
       "      <td>0.0</td>\n",
       "      <td>0.0</td>\n",
       "      <td>0.0</td>\n",
       "      <td>0.00000</td>\n",
       "      <td>0.000000</td>\n",
       "      <td>0.0</td>\n",
       "    </tr>\n",
       "    <tr>\n",
       "      <th>2</th>\n",
       "      <td>0.0</td>\n",
       "      <td>0.0</td>\n",
       "      <td>0.0</td>\n",
       "      <td>0.0</td>\n",
       "      <td>0.0</td>\n",
       "      <td>0.000000</td>\n",
       "      <td>0.0</td>\n",
       "      <td>0.000000</td>\n",
       "      <td>0.0</td>\n",
       "      <td>0.0</td>\n",
       "      <td>...</td>\n",
       "      <td>0.0</td>\n",
       "      <td>0.0</td>\n",
       "      <td>0.0</td>\n",
       "      <td>0.000000</td>\n",
       "      <td>0.0</td>\n",
       "      <td>0.0</td>\n",
       "      <td>0.0</td>\n",
       "      <td>0.00000</td>\n",
       "      <td>0.000000</td>\n",
       "      <td>0.0</td>\n",
       "    </tr>\n",
       "    <tr>\n",
       "      <th>3</th>\n",
       "      <td>0.0</td>\n",
       "      <td>0.0</td>\n",
       "      <td>0.0</td>\n",
       "      <td>0.0</td>\n",
       "      <td>0.0</td>\n",
       "      <td>0.230432</td>\n",
       "      <td>0.0</td>\n",
       "      <td>0.273895</td>\n",
       "      <td>0.0</td>\n",
       "      <td>0.0</td>\n",
       "      <td>...</td>\n",
       "      <td>0.0</td>\n",
       "      <td>0.0</td>\n",
       "      <td>0.0</td>\n",
       "      <td>0.000000</td>\n",
       "      <td>0.0</td>\n",
       "      <td>0.0</td>\n",
       "      <td>0.0</td>\n",
       "      <td>0.00000</td>\n",
       "      <td>0.000000</td>\n",
       "      <td>0.0</td>\n",
       "    </tr>\n",
       "    <tr>\n",
       "      <th>4</th>\n",
       "      <td>0.0</td>\n",
       "      <td>0.0</td>\n",
       "      <td>0.0</td>\n",
       "      <td>0.0</td>\n",
       "      <td>0.0</td>\n",
       "      <td>0.000000</td>\n",
       "      <td>0.0</td>\n",
       "      <td>0.000000</td>\n",
       "      <td>0.0</td>\n",
       "      <td>0.0</td>\n",
       "      <td>...</td>\n",
       "      <td>0.0</td>\n",
       "      <td>0.0</td>\n",
       "      <td>0.0</td>\n",
       "      <td>0.295044</td>\n",
       "      <td>0.0</td>\n",
       "      <td>0.0</td>\n",
       "      <td>0.0</td>\n",
       "      <td>0.21289</td>\n",
       "      <td>0.273636</td>\n",
       "      <td>0.0</td>\n",
       "    </tr>\n",
       "  </tbody>\n",
       "</table>\n",
       "<p>5 rows × 150 columns</p>\n",
       "</div>"
      ],
      "text/plain": [
       "   actual  ani  area  arm  beauti    becaus  better       big  bit  black  \\\n",
       "0     0.0  0.0   0.0  0.0     0.0  0.000000     0.0  0.000000  0.0    0.0   \n",
       "1     0.0  0.0   0.0  0.0     0.0  0.000000     0.0  0.000000  0.0    0.0   \n",
       "2     0.0  0.0   0.0  0.0     0.0  0.000000     0.0  0.000000  0.0    0.0   \n",
       "3     0.0  0.0   0.0  0.0     0.0  0.230432     0.0  0.273895  0.0    0.0   \n",
       "4     0.0  0.0   0.0  0.0     0.0  0.000000     0.0  0.000000  0.0    0.0   \n",
       "\n",
       "   ...  want  wash  way      wear  weight  went  white     work      worn   xs  \n",
       "0  ...   0.0   0.0  0.0  0.000000     0.0   0.0    0.0  0.00000  0.000000  0.0  \n",
       "1  ...   0.0   0.0  0.0  0.360887     0.0   0.0    0.0  0.00000  0.000000  0.0  \n",
       "2  ...   0.0   0.0  0.0  0.000000     0.0   0.0    0.0  0.00000  0.000000  0.0  \n",
       "3  ...   0.0   0.0  0.0  0.000000     0.0   0.0    0.0  0.00000  0.000000  0.0  \n",
       "4  ...   0.0   0.0  0.0  0.295044     0.0   0.0    0.0  0.21289  0.273636  0.0  \n",
       "\n",
       "[5 rows x 150 columns]"
      ]
     },
     "execution_count": 63,
     "metadata": {},
     "output_type": "execute_result"
    }
   ],
   "source": [
    "rec_reviews = df_popular_reviews.review_text.reset_index(drop=True)\n",
    "reviews_stemmed = []\n",
    "for review in rec_reviews:\n",
    "    reviews_stemmed.append(' '.join([stemmer.stem(i) for i in remove_punct(review).split(' ')]))\n",
    "reviews_tfidf = make_tfidf_df(reviews_stemmed)\n",
    "reviews_tfidf.head()"
   ]
  },
  {
   "cell_type": "code",
   "execution_count": 64,
   "metadata": {},
   "outputs": [],
   "source": [
    "X = reviews_tfidf[:]"
   ]
  },
  {
   "cell_type": "code",
   "execution_count": 65,
   "metadata": {},
   "outputs": [
    {
     "data": {
      "text/html": [
       "<div>\n",
       "<style scoped>\n",
       "    .dataframe tbody tr th:only-of-type {\n",
       "        vertical-align: middle;\n",
       "    }\n",
       "\n",
       "    .dataframe tbody tr th {\n",
       "        vertical-align: top;\n",
       "    }\n",
       "\n",
       "    .dataframe thead th {\n",
       "        text-align: right;\n",
       "    }\n",
       "</style>\n",
       "<table border=\"1\" class=\"dataframe\">\n",
       "  <thead>\n",
       "    <tr style=\"text-align: right;\">\n",
       "      <th></th>\n",
       "      <th>actual</th>\n",
       "      <th>ani</th>\n",
       "      <th>area</th>\n",
       "      <th>arm</th>\n",
       "      <th>beauti</th>\n",
       "      <th>becaus</th>\n",
       "      <th>better</th>\n",
       "      <th>big</th>\n",
       "      <th>bit</th>\n",
       "      <th>black</th>\n",
       "      <th>...</th>\n",
       "      <th>want</th>\n",
       "      <th>wash</th>\n",
       "      <th>way</th>\n",
       "      <th>wear</th>\n",
       "      <th>weight</th>\n",
       "      <th>went</th>\n",
       "      <th>white</th>\n",
       "      <th>work</th>\n",
       "      <th>worn</th>\n",
       "      <th>xs</th>\n",
       "    </tr>\n",
       "  </thead>\n",
       "  <tbody>\n",
       "    <tr>\n",
       "      <th>0</th>\n",
       "      <td>0.0</td>\n",
       "      <td>0.0</td>\n",
       "      <td>0.0</td>\n",
       "      <td>0.0</td>\n",
       "      <td>0.0</td>\n",
       "      <td>0.000000</td>\n",
       "      <td>0.0</td>\n",
       "      <td>0.000000</td>\n",
       "      <td>0.0</td>\n",
       "      <td>0.0</td>\n",
       "      <td>...</td>\n",
       "      <td>0.0</td>\n",
       "      <td>0.0</td>\n",
       "      <td>0.0</td>\n",
       "      <td>0.000000</td>\n",
       "      <td>0.0</td>\n",
       "      <td>0.0</td>\n",
       "      <td>0.0</td>\n",
       "      <td>0.00000</td>\n",
       "      <td>0.000000</td>\n",
       "      <td>0.0</td>\n",
       "    </tr>\n",
       "    <tr>\n",
       "      <th>1</th>\n",
       "      <td>0.0</td>\n",
       "      <td>0.0</td>\n",
       "      <td>0.0</td>\n",
       "      <td>0.0</td>\n",
       "      <td>0.0</td>\n",
       "      <td>0.000000</td>\n",
       "      <td>0.0</td>\n",
       "      <td>0.000000</td>\n",
       "      <td>0.0</td>\n",
       "      <td>0.0</td>\n",
       "      <td>...</td>\n",
       "      <td>0.0</td>\n",
       "      <td>0.0</td>\n",
       "      <td>0.0</td>\n",
       "      <td>0.360887</td>\n",
       "      <td>0.0</td>\n",
       "      <td>0.0</td>\n",
       "      <td>0.0</td>\n",
       "      <td>0.00000</td>\n",
       "      <td>0.000000</td>\n",
       "      <td>0.0</td>\n",
       "    </tr>\n",
       "    <tr>\n",
       "      <th>2</th>\n",
       "      <td>0.0</td>\n",
       "      <td>0.0</td>\n",
       "      <td>0.0</td>\n",
       "      <td>0.0</td>\n",
       "      <td>0.0</td>\n",
       "      <td>0.000000</td>\n",
       "      <td>0.0</td>\n",
       "      <td>0.000000</td>\n",
       "      <td>0.0</td>\n",
       "      <td>0.0</td>\n",
       "      <td>...</td>\n",
       "      <td>0.0</td>\n",
       "      <td>0.0</td>\n",
       "      <td>0.0</td>\n",
       "      <td>0.000000</td>\n",
       "      <td>0.0</td>\n",
       "      <td>0.0</td>\n",
       "      <td>0.0</td>\n",
       "      <td>0.00000</td>\n",
       "      <td>0.000000</td>\n",
       "      <td>0.0</td>\n",
       "    </tr>\n",
       "    <tr>\n",
       "      <th>3</th>\n",
       "      <td>0.0</td>\n",
       "      <td>0.0</td>\n",
       "      <td>0.0</td>\n",
       "      <td>0.0</td>\n",
       "      <td>0.0</td>\n",
       "      <td>0.230432</td>\n",
       "      <td>0.0</td>\n",
       "      <td>0.273895</td>\n",
       "      <td>0.0</td>\n",
       "      <td>0.0</td>\n",
       "      <td>...</td>\n",
       "      <td>0.0</td>\n",
       "      <td>0.0</td>\n",
       "      <td>0.0</td>\n",
       "      <td>0.000000</td>\n",
       "      <td>0.0</td>\n",
       "      <td>0.0</td>\n",
       "      <td>0.0</td>\n",
       "      <td>0.00000</td>\n",
       "      <td>0.000000</td>\n",
       "      <td>0.0</td>\n",
       "    </tr>\n",
       "    <tr>\n",
       "      <th>4</th>\n",
       "      <td>0.0</td>\n",
       "      <td>0.0</td>\n",
       "      <td>0.0</td>\n",
       "      <td>0.0</td>\n",
       "      <td>0.0</td>\n",
       "      <td>0.000000</td>\n",
       "      <td>0.0</td>\n",
       "      <td>0.000000</td>\n",
       "      <td>0.0</td>\n",
       "      <td>0.0</td>\n",
       "      <td>...</td>\n",
       "      <td>0.0</td>\n",
       "      <td>0.0</td>\n",
       "      <td>0.0</td>\n",
       "      <td>0.295044</td>\n",
       "      <td>0.0</td>\n",
       "      <td>0.0</td>\n",
       "      <td>0.0</td>\n",
       "      <td>0.21289</td>\n",
       "      <td>0.273636</td>\n",
       "      <td>0.0</td>\n",
       "    </tr>\n",
       "  </tbody>\n",
       "</table>\n",
       "<p>5 rows × 150 columns</p>\n",
       "</div>"
      ],
      "text/plain": [
       "   actual  ani  area  arm  beauti    becaus  better       big  bit  black  \\\n",
       "0     0.0  0.0   0.0  0.0     0.0  0.000000     0.0  0.000000  0.0    0.0   \n",
       "1     0.0  0.0   0.0  0.0     0.0  0.000000     0.0  0.000000  0.0    0.0   \n",
       "2     0.0  0.0   0.0  0.0     0.0  0.000000     0.0  0.000000  0.0    0.0   \n",
       "3     0.0  0.0   0.0  0.0     0.0  0.230432     0.0  0.273895  0.0    0.0   \n",
       "4     0.0  0.0   0.0  0.0     0.0  0.000000     0.0  0.000000  0.0    0.0   \n",
       "\n",
       "   ...  want  wash  way      wear  weight  went  white     work      worn   xs  \n",
       "0  ...   0.0   0.0  0.0  0.000000     0.0   0.0    0.0  0.00000  0.000000  0.0  \n",
       "1  ...   0.0   0.0  0.0  0.360887     0.0   0.0    0.0  0.00000  0.000000  0.0  \n",
       "2  ...   0.0   0.0  0.0  0.000000     0.0   0.0    0.0  0.00000  0.000000  0.0  \n",
       "3  ...   0.0   0.0  0.0  0.000000     0.0   0.0    0.0  0.00000  0.000000  0.0  \n",
       "4  ...   0.0   0.0  0.0  0.295044     0.0   0.0    0.0  0.21289  0.273636  0.0  \n",
       "\n",
       "[5 rows x 150 columns]"
      ]
     },
     "execution_count": 65,
     "metadata": {},
     "output_type": "execute_result"
    }
   ],
   "source": [
    "X.head()"
   ]
  },
  {
   "cell_type": "code",
   "execution_count": 66,
   "metadata": {},
   "outputs": [
    {
     "data": {
      "text/plain": [
       "0    1\n",
       "1    1\n",
       "2    0\n",
       "3    1\n",
       "4    1\n",
       "Name: recommended_ind, dtype: int64"
      ]
     },
     "execution_count": 66,
     "metadata": {},
     "output_type": "execute_result"
    }
   ],
   "source": [
    "y.head()"
   ]
  },
  {
   "cell_type": "code",
   "execution_count": null,
   "metadata": {},
   "outputs": [],
   "source": []
  },
  {
   "cell_type": "markdown",
   "metadata": {},
   "source": [
    "- applying a random forest classifier to find feature importances"
   ]
  },
  {
   "cell_type": "code",
   "execution_count": 67,
   "metadata": {},
   "outputs": [],
   "source": [
    "from sklearn.ensemble import RandomForestClassifier"
   ]
  },
  {
   "cell_type": "code",
   "execution_count": 68,
   "metadata": {},
   "outputs": [],
   "source": [
    "rfc = RandomForestClassifier(oob_score = True)"
   ]
  },
  {
   "cell_type": "code",
   "execution_count": 69,
   "metadata": {},
   "outputs": [
    {
     "data": {
      "text/plain": [
       "RandomForestClassifier(oob_score=True)"
      ]
     },
     "execution_count": 69,
     "metadata": {},
     "output_type": "execute_result"
    }
   ],
   "source": [
    "rfc.fit(X, y)"
   ]
  },
  {
   "cell_type": "code",
   "execution_count": 70,
   "metadata": {},
   "outputs": [
    {
     "data": {
      "text/plain": [
       "0.7956439903199785"
      ]
     },
     "execution_count": 70,
     "metadata": {},
     "output_type": "execute_result"
    }
   ],
   "source": [
    "rfc.oob_score_"
   ]
  },
  {
   "cell_type": "code",
   "execution_count": null,
   "metadata": {},
   "outputs": [],
   "source": []
  },
  {
   "cell_type": "markdown",
   "metadata": {},
   "source": [
    "- \"oob_score\" is the out-of-bag score. Essentially, rows that are left out from each \"tree\" are used to test the accuracy of each tree. Accuracy is calculated without splitting the data explicitly into train and test sets."
   ]
  },
  {
   "cell_type": "code",
   "execution_count": 71,
   "metadata": {},
   "outputs": [
    {
     "data": {
      "text/plain": [
       "array([0.00294227, 0.00278394, 0.00262317, 0.00909917, 0.00905055,\n",
       "       0.00749709, 0.0035328 , 0.00578292, 0.00560223, 0.00384763,\n",
       "       0.00291684, 0.00262823, 0.00660116, 0.00446239, 0.00299314,\n",
       "       0.0047103 , 0.00391884, 0.00245942, 0.00210109, 0.00499629,\n",
       "       0.01500256, 0.00709926, 0.00718784, 0.00717367, 0.00215497,\n",
       "       0.00293074, 0.00509173, 0.00665126, 0.00883505, 0.00376586,\n",
       "       0.03775231, 0.00390619, 0.00380839, 0.00469201, 0.01574864,\n",
       "       0.0034583 , 0.01807369, 0.00227807, 0.00448888, 0.01161202,\n",
       "       0.01719361, 0.00436321, 0.00629012, 0.00639036, 0.00306943,\n",
       "       0.00346566, 0.01337703, 0.0039941 , 0.00475859, 0.00218272,\n",
       "       0.00534913, 0.01071193, 0.00312485, 0.00223353, 0.004409  ,\n",
       "       0.01543842, 0.00259266, 0.00680386, 0.00303979, 0.00256029,\n",
       "       0.0061629 , 0.00288006, 0.01620669, 0.00435876, 0.00730304,\n",
       "       0.0052338 , 0.00245443, 0.02401923, 0.01190924, 0.00314407,\n",
       "       0.00291074, 0.01937757, 0.00252207, 0.00599504, 0.02484462,\n",
       "       0.00567885, 0.00903155, 0.00461751, 0.00750077, 0.0033046 ,\n",
       "       0.00507578, 0.0043376 , 0.00853107, 0.0025841 , 0.00385003,\n",
       "       0.00368035, 0.02260745, 0.00370701, 0.00502414, 0.0047763 ,\n",
       "       0.00583902, 0.00351099, 0.0024827 , 0.00541994, 0.01243254,\n",
       "       0.00232736, 0.00345497, 0.00846826, 0.00299634, 0.01146756,\n",
       "       0.00381084, 0.00246102, 0.00349231, 0.00515597, 0.02159715,\n",
       "       0.00677419, 0.00436147, 0.0061336 , 0.00371162, 0.00280029,\n",
       "       0.00419847, 0.01128273, 0.00892917, 0.00497055, 0.01794534,\n",
       "       0.00567954, 0.004693  , 0.00216617, 0.00836773, 0.01376092,\n",
       "       0.00686045, 0.0019738 , 0.00473712, 0.00361723, 0.00400635,\n",
       "       0.00414821, 0.00380402, 0.00277393, 0.00721777, 0.01212863,\n",
       "       0.00580082, 0.00502395, 0.00996051, 0.00348422, 0.00201432,\n",
       "       0.00222474, 0.005085  , 0.00185999, 0.0127197 , 0.00876318,\n",
       "       0.01418581, 0.0075909 , 0.01724781, 0.01348839, 0.00215893,\n",
       "       0.00199835, 0.00389701, 0.00761705, 0.00192489, 0.00375659])"
      ]
     },
     "execution_count": 71,
     "metadata": {},
     "output_type": "execute_result"
    }
   ],
   "source": [
    "rfc.feature_importances_"
   ]
  },
  {
   "cell_type": "code",
   "execution_count": 72,
   "metadata": {},
   "outputs": [
    {
     "name": "stderr",
     "output_type": "stream",
     "text": [
      "<ipython-input-72-6e493a53fa1c>:1: SettingWithCopyWarning: \n",
      "A value is trying to be set on a copy of a slice from a DataFrame.\n",
      "Try using .loc[row_indexer,col_indexer] = value instead\n",
      "\n",
      "See the caveats in the documentation: https://pandas.pydata.org/pandas-docs/stable/user_guide/indexing.html#returning-a-view-versus-a-copy\n",
      "  X[\"is_recommended\"] = y\n"
     ]
    }
   ],
   "source": [
    "X[\"is_recommended\"] = y"
   ]
  },
  {
   "cell_type": "code",
   "execution_count": 73,
   "metadata": {},
   "outputs": [
    {
     "data": {
      "text/plain": [
       "is_recommended\n",
       "0    0.041326\n",
       "1    0.005759\n",
       "Name: disappoint, dtype: float64"
      ]
     },
     "execution_count": 73,
     "metadata": {},
     "output_type": "execute_result"
    }
   ],
   "source": [
    "X.groupby(\"is_recommended\").mean()[\"disappoint\"]"
   ]
  },
  {
   "cell_type": "code",
   "execution_count": null,
   "metadata": {},
   "outputs": [],
   "source": []
  },
  {
   "cell_type": "markdown",
   "metadata": {},
   "source": [
    "- Applying t-tests to separate the significant words and phrases from the insignificant"
   ]
  },
  {
   "cell_type": "code",
   "execution_count": 74,
   "metadata": {},
   "outputs": [],
   "source": [
    "from scipy import stats"
   ]
  },
  {
   "cell_type": "code",
   "execution_count": 75,
   "metadata": {},
   "outputs": [],
   "source": [
    "is_recommended = X[X.is_recommended == True]\n",
    "not_recommended = X[X.is_recommended == False]"
   ]
  },
  {
   "cell_type": "code",
   "execution_count": 76,
   "metadata": {},
   "outputs": [],
   "source": [
    "ttests = []\n",
    "\n",
    "for i in X:\n",
    "    ttests.append(stats.ttest_ind(is_recommended[i], not_recommended[i], equal_var=False))"
   ]
  },
  {
   "cell_type": "code",
   "execution_count": 77,
   "metadata": {},
   "outputs": [],
   "source": [
    "scored_words = {X.columns[i]: ttests[i].pvalue for i in range(len(X.columns))}"
   ]
  },
  {
   "cell_type": "code",
   "execution_count": 78,
   "metadata": {},
   "outputs": [],
   "source": [
    "significant_words = dict(filter(lambda x: x[1] <= .05, scored_words.items()))\n",
    "del significant_words['is_recommended']"
   ]
  },
  {
   "cell_type": "code",
   "execution_count": 79,
   "metadata": {},
   "outputs": [
    {
     "data": {
      "text/plain": [
       "85"
      ]
     },
     "execution_count": 79,
     "metadata": {},
     "output_type": "execute_result"
    }
   ],
   "source": [
    "len(significant_words)"
   ]
  },
  {
   "cell_type": "code",
   "execution_count": 80,
   "metadata": {
    "scrolled": true
   },
   "outputs": [
    {
     "data": {
      "text/plain": [
       "[('perfect', 9.157719277171963e-54),\n",
       " ('fit perfect', 6.732996505449588e-31),\n",
       " ('soft', 2.694257791760671e-21),\n",
       " ('disappoint', 8.1981758911268e-21),\n",
       " ('comfort', 7.315221313828174e-18),\n",
       " ('great', 2.1214535652459765e-17),\n",
       " ('casual', 8.124724823259432e-15),\n",
       " ('tts', 2.7456862470684544e-14),\n",
       " ('return', 8.622495677549831e-14),\n",
       " ('love', 2.0566722386400166e-13),\n",
       " ('materi', 2.9815024067062436e-10),\n",
       " ('worn', 6.243498798829729e-10),\n",
       " ('fit', 1.221883767996899e-09),\n",
       " ('look', 1.258623297792819e-09),\n",
       " ('thought', 1.6029035999432112e-09),\n",
       " ('look like', 3.3304240471233113e-09),\n",
       " ('bit', 4.027823856686301e-09),\n",
       " ('way', 1.4058819528848517e-08),\n",
       " ('bought', 1.628846952648983e-08),\n",
       " ('beauti', 1.8060203128704962e-08),\n",
       " ('price', 5.353168136752289e-08),\n",
       " ('wear', 6.822900772465541e-08),\n",
       " ('regular', 1.2687268857930535e-07),\n",
       " ('nice', 1.4775781007380864e-07),\n",
       " ('petit', 1.7566568064373695e-07),\n",
       " ('littl', 2.0054224809516198e-07),\n",
       " ('weight', 2.079243907313932e-07),\n",
       " ('color', 4.690546213032782e-07),\n",
       " ('felt', 5.128582052691824e-07),\n",
       " ('true', 1.3221664073473803e-06),\n",
       " ('want', 1.4979000381125188e-06),\n",
       " ('black', 2.8195777531048556e-06),\n",
       " ('jean', 5.805253783397594e-06),\n",
       " ('jacket', 6.931592711727567e-06),\n",
       " ('like', 8.297420708197175e-06),\n",
       " ('store', 9.917170684427672e-06),\n",
       " ('fabric', 1.2171787253208423e-05),\n",
       " ('qualiti', 1.271455289000379e-05),\n",
       " ('shirt', 2.5103549286995415e-05),\n",
       " ('purchas', 3.704929605616764e-05),\n",
       " ('size', 4.706375054757951e-05),\n",
       " ('length', 6.812663408571401e-05),\n",
       " ('went', 9.936165238240068e-05),\n",
       " ('summer', 0.0001265484816998143),\n",
       " ('usual', 0.00020612668546487133),\n",
       " ('true size', 0.00026679362117307877),\n",
       " ('medium', 0.0003283796407144296),\n",
       " ('flatter', 0.000595162529097975),\n",
       " ('slight', 0.0007800545584905861),\n",
       " ('blue', 0.001065213652083134),\n",
       " ('recommend', 0.0010785021675511655),\n",
       " ('im', 0.0012055197882983584),\n",
       " ('model', 0.001696596682776606),\n",
       " ('hit', 0.0018696603797842945),\n",
       " ('long', 0.0021063906666879285),\n",
       " ('gorgeous', 0.0021708600682557376),\n",
       " ('usual size', 0.0027224779008595654),\n",
       " ('buy', 0.002819997817469917),\n",
       " ('need', 0.003621689998855942),\n",
       " ('think', 0.0045283653501855285),\n",
       " ('hope', 0.004558575790100783),\n",
       " ('didnt', 0.0051389500039435146),\n",
       " ('fall', 0.005209404960959904),\n",
       " ('receiv', 0.005596748440498607),\n",
       " ('arm', 0.005963758734078774),\n",
       " ('xs', 0.006378123188821642),\n",
       " ('light', 0.007634331658086329),\n",
       " ('run', 0.00916709985658179),\n",
       " ('stretch', 0.013597831498400726),\n",
       " ('print', 0.015422759222425331),\n",
       " ('cut', 0.01671515632645117),\n",
       " ('day', 0.019180299760491414),\n",
       " ('knee', 0.02122370776202049),\n",
       " ('wash', 0.021657658434132306),\n",
       " ('white', 0.02487070779199853),\n",
       " ('expect', 0.02563385882763569),\n",
       " ('pair', 0.02988389193822655),\n",
       " ('normal', 0.03040346770775306),\n",
       " ('bodi', 0.03196026221829255),\n",
       " ('thing', 0.032921005870848175),\n",
       " ('just', 0.035982415181241366),\n",
       " ('leg', 0.03764941388354194),\n",
       " ('definit', 0.03809841148298209),\n",
       " ('design', 0.03951860923849419),\n",
       " ('got', 0.04845893168379682)]"
      ]
     },
     "execution_count": 80,
     "metadata": {},
     "output_type": "execute_result"
    }
   ],
   "source": [
    "sorted(significant_words.items(), key=lambda x: x[1])"
   ]
  },
  {
   "cell_type": "markdown",
   "metadata": {},
   "source": [
    "- The presence of the words in the significant_words list in a review have a significant chance of indicating that a review is accompanied by a recommendation or non-recommendation. These words can then be used to help train a random forest regressor to determine whether a product will be recommended or not\n",
    "- (Note: tts stands for \"true-to-size\") "
   ]
  },
  {
   "cell_type": "code",
   "execution_count": null,
   "metadata": {},
   "outputs": [],
   "source": []
  },
  {
   "cell_type": "code",
   "execution_count": 81,
   "metadata": {},
   "outputs": [],
   "source": [
    "sig_words = [i[0] for i in sorted(significant_words.items(), key=lambda x: x[1])]"
   ]
  },
  {
   "cell_type": "code",
   "execution_count": 82,
   "metadata": {},
   "outputs": [],
   "source": [
    "significant_pos_words = list(set(sig_words) - set(neg_reviews_tfidf.columns))\n",
    "significant_neg_words = list(set(sig_words) - set(pos_reviews_tfidf.columns))"
   ]
  },
  {
   "cell_type": "code",
   "execution_count": 83,
   "metadata": {},
   "outputs": [
    {
     "data": {
      "text/plain": [
       "['comfort',\n",
       " 'knee',\n",
       " 'jacket',\n",
       " 'casual',\n",
       " 'weight',\n",
       " 'worn',\n",
       " 'hit',\n",
       " 'tts',\n",
       " 'went',\n",
       " 'slight',\n",
       " 'day',\n",
       " 'buy',\n",
       " 'stretch',\n",
       " 'usual size',\n",
       " 'print',\n",
       " 'fit perfect',\n",
       " 'true size',\n",
       " 'thing',\n",
       " 'recommend',\n",
       " 'regular']"
      ]
     },
     "execution_count": 83,
     "metadata": {},
     "output_type": "execute_result"
    }
   ],
   "source": [
    "significant_pos_words"
   ]
  },
  {
   "cell_type": "code",
   "execution_count": 84,
   "metadata": {},
   "outputs": [
    {
     "data": {
      "text/plain": [
       "['hope', 'felt', 'disappoint', 'thought', 'receiv', 'expect']"
      ]
     },
     "execution_count": 84,
     "metadata": {},
     "output_type": "execute_result"
    }
   ],
   "source": [
    "significant_neg_words"
   ]
  },
  {
   "cell_type": "code",
   "execution_count": null,
   "metadata": {},
   "outputs": [],
   "source": []
  },
  {
   "cell_type": "markdown",
   "metadata": {},
   "source": [
    "- Above are the sets of significant positive words and significant negative words; if there are more positive words than negative words, it is significantly more likely that a product has been recommended, and vice-versa. \n",
    "- Below, these words are added to the dataframe"
   ]
  },
  {
   "cell_type": "code",
   "execution_count": 85,
   "metadata": {},
   "outputs": [],
   "source": [
    "df_popular_reviews[\"stemmed_reviews\"] = reviews_stemmed"
   ]
  },
  {
   "cell_type": "code",
   "execution_count": 86,
   "metadata": {},
   "outputs": [],
   "source": [
    "df_popular_reviews[\"pos_words\"] = ''\n",
    "df_popular_reviews[\"neg_words\"] = ''"
   ]
  },
  {
   "cell_type": "code",
   "execution_count": 87,
   "metadata": {},
   "outputs": [],
   "source": [
    "sig_positive_words = [np.nan if list(set(significant_pos_words).intersection(set(i))) == [] else list(set(significant_pos_words).intersection(set(i))) for i in [j.split(\" \") for j in df_popular_reviews.stemmed_reviews]]\n",
    "sig_negative_words = [np.nan if list(set(significant_neg_words).intersection(set(i))) == [] else list(set(significant_neg_words).intersection(set(i))) for i in [j.split(\" \") for j in df_popular_reviews.stemmed_reviews]]"
   ]
  },
  {
   "cell_type": "code",
   "execution_count": 88,
   "metadata": {},
   "outputs": [],
   "source": [
    "df_popular_reviews.pos_words = sig_positive_words\n",
    "df_popular_reviews.neg_words = sig_negative_words"
   ]
  },
  {
   "cell_type": "code",
   "execution_count": 89,
   "metadata": {},
   "outputs": [
    {
     "data": {
      "text/html": [
       "<div>\n",
       "<style scoped>\n",
       "    .dataframe tbody tr th:only-of-type {\n",
       "        vertical-align: middle;\n",
       "    }\n",
       "\n",
       "    .dataframe tbody tr th {\n",
       "        vertical-align: top;\n",
       "    }\n",
       "\n",
       "    .dataframe thead th {\n",
       "        text-align: right;\n",
       "    }\n",
       "</style>\n",
       "<table border=\"1\" class=\"dataframe\">\n",
       "  <thead>\n",
       "    <tr style=\"text-align: right;\">\n",
       "      <th></th>\n",
       "      <th>clothing_id</th>\n",
       "      <th>age</th>\n",
       "      <th>title</th>\n",
       "      <th>review_text</th>\n",
       "      <th>rating</th>\n",
       "      <th>recommended_ind</th>\n",
       "      <th>positive_feedback_count</th>\n",
       "      <th>division_name</th>\n",
       "      <th>department_name</th>\n",
       "      <th>class_name</th>\n",
       "      <th>recommended_ind_%</th>\n",
       "      <th>num_reviews</th>\n",
       "      <th>stemmed_reviews</th>\n",
       "      <th>pos_words</th>\n",
       "      <th>neg_words</th>\n",
       "    </tr>\n",
       "  </thead>\n",
       "  <tbody>\n",
       "    <tr>\n",
       "      <th>0</th>\n",
       "      <td>1092</td>\n",
       "      <td>34</td>\n",
       "      <td>Beware if you're fuller in the chest</td>\n",
       "      <td>I loved the lace detailing all over this dress...</td>\n",
       "      <td>3</td>\n",
       "      <td>1</td>\n",
       "      <td>122</td>\n",
       "      <td>General</td>\n",
       "      <td>Dresses</td>\n",
       "      <td>Dresses</td>\n",
       "      <td>0.717949</td>\n",
       "      <td>39</td>\n",
       "      <td>i love the lace detail all over this dress and...</td>\n",
       "      <td>[tts, comfort]</td>\n",
       "      <td>[thought]</td>\n",
       "    </tr>\n",
       "    <tr>\n",
       "      <th>1</th>\n",
       "      <td>1095</td>\n",
       "      <td>29</td>\n",
       "      <td>NaN</td>\n",
       "      <td>I've been on the hunt for the perfect dress to...</td>\n",
       "      <td>5</td>\n",
       "      <td>1</td>\n",
       "      <td>117</td>\n",
       "      <td>General</td>\n",
       "      <td>Dresses</td>\n",
       "      <td>Dresses</td>\n",
       "      <td>0.724638</td>\n",
       "      <td>69</td>\n",
       "      <td>ive been on the hunt for the perfect dress to ...</td>\n",
       "      <td>NaN</td>\n",
       "      <td>NaN</td>\n",
       "    </tr>\n",
       "    <tr>\n",
       "      <th>2</th>\n",
       "      <td>986</td>\n",
       "      <td>43</td>\n",
       "      <td>Quality does not merit cost</td>\n",
       "      <td>I generally don't write bad reviews, but there...</td>\n",
       "      <td>1</td>\n",
       "      <td>0</td>\n",
       "      <td>108</td>\n",
       "      <td>General</td>\n",
       "      <td>Jackets</td>\n",
       "      <td>Jackets</td>\n",
       "      <td>0.250000</td>\n",
       "      <td>8</td>\n",
       "      <td>i general dont write bad reviews, but there is...</td>\n",
       "      <td>NaN</td>\n",
       "      <td>NaN</td>\n",
       "    </tr>\n",
       "    <tr>\n",
       "      <th>3</th>\n",
       "      <td>1121</td>\n",
       "      <td>35</td>\n",
       "      <td>A navy trench-yes!</td>\n",
       "      <td>I am a big fan of trench coats and i love that...</td>\n",
       "      <td>5</td>\n",
       "      <td>1</td>\n",
       "      <td>99</td>\n",
       "      <td>General</td>\n",
       "      <td>Jackets</td>\n",
       "      <td>Outerwear</td>\n",
       "      <td>0.888889</td>\n",
       "      <td>9</td>\n",
       "      <td>i am a big fan of trench coat and i love that ...</td>\n",
       "      <td>NaN</td>\n",
       "      <td>NaN</td>\n",
       "    </tr>\n",
       "    <tr>\n",
       "      <th>4</th>\n",
       "      <td>1078</td>\n",
       "      <td>23</td>\n",
       "      <td>Super flattering, beautiful dress</td>\n",
       "      <td>This is my favorite dress i've bought in the p...</td>\n",
       "      <td>5</td>\n",
       "      <td>1</td>\n",
       "      <td>98</td>\n",
       "      <td>General</td>\n",
       "      <td>Dresses</td>\n",
       "      <td>Dresses</td>\n",
       "      <td>0.781250</td>\n",
       "      <td>160</td>\n",
       "      <td>this is my favorit dress ive bought in the pas...</td>\n",
       "      <td>[casual, comfort, regular, worn]</td>\n",
       "      <td>NaN</td>\n",
       "    </tr>\n",
       "  </tbody>\n",
       "</table>\n",
       "</div>"
      ],
      "text/plain": [
       "   clothing_id  age                                 title  \\\n",
       "0         1092   34  Beware if you're fuller in the chest   \n",
       "1         1095   29                                   NaN   \n",
       "2          986   43           Quality does not merit cost   \n",
       "3         1121   35                    A navy trench-yes!   \n",
       "4         1078   23     Super flattering, beautiful dress   \n",
       "\n",
       "                                         review_text  rating  recommended_ind  \\\n",
       "0  I loved the lace detailing all over this dress...       3                1   \n",
       "1  I've been on the hunt for the perfect dress to...       5                1   \n",
       "2  I generally don't write bad reviews, but there...       1                0   \n",
       "3  I am a big fan of trench coats and i love that...       5                1   \n",
       "4  This is my favorite dress i've bought in the p...       5                1   \n",
       "\n",
       "   positive_feedback_count division_name department_name class_name  \\\n",
       "0                      122       General         Dresses    Dresses   \n",
       "1                      117       General         Dresses    Dresses   \n",
       "2                      108       General         Jackets    Jackets   \n",
       "3                       99       General         Jackets  Outerwear   \n",
       "4                       98       General         Dresses    Dresses   \n",
       "\n",
       "   recommended_ind_%  num_reviews  \\\n",
       "0           0.717949           39   \n",
       "1           0.724638           69   \n",
       "2           0.250000            8   \n",
       "3           0.888889            9   \n",
       "4           0.781250          160   \n",
       "\n",
       "                                     stemmed_reviews  \\\n",
       "0  i love the lace detail all over this dress and...   \n",
       "1  ive been on the hunt for the perfect dress to ...   \n",
       "2  i general dont write bad reviews, but there is...   \n",
       "3  i am a big fan of trench coat and i love that ...   \n",
       "4  this is my favorit dress ive bought in the pas...   \n",
       "\n",
       "                          pos_words  neg_words  \n",
       "0                    [tts, comfort]  [thought]  \n",
       "1                               NaN        NaN  \n",
       "2                               NaN        NaN  \n",
       "3                               NaN        NaN  \n",
       "4  [casual, comfort, regular, worn]        NaN  "
      ]
     },
     "execution_count": 89,
     "metadata": {},
     "output_type": "execute_result"
    }
   ],
   "source": [
    "df_popular_reviews.head()\n"
   ]
  },
  {
   "cell_type": "code",
   "execution_count": 90,
   "metadata": {
    "scrolled": false
   },
   "outputs": [
    {
     "data": {
      "text/plain": [
       "division_name   department_name  class_name\n",
       "General         Bottoms          Jeans          56\n",
       "                                 Pants          88\n",
       "                                 Shorts         21\n",
       "                                 Skirts         54\n",
       "                Dresses          Dresses       356\n",
       "                Jackets          Jackets        47\n",
       "                                 Outerwear      17\n",
       "                Tops             Blouses       154\n",
       "                                 Fine gauge     42\n",
       "                                 Knits         239\n",
       "                                 Sweaters       66\n",
       "                Trend            Trend           5\n",
       "General Petite  Bottoms          Jeans          25\n",
       "                                 Pants          45\n",
       "                                 Skirts         32\n",
       "                Dresses          Dresses       237\n",
       "                Intimate         Lounge         22\n",
       "                Jackets          Jackets        47\n",
       "                                 Outerwear       7\n",
       "                Tops             Blouses        93\n",
       "                                 Fine gauge     27\n",
       "                                 Knits         109\n",
       "                                 Sweaters       35\n",
       "                Trend            Trend           3\n",
       "Initmates       Intimate         Intimates       2\n",
       "                                 Layering        6\n",
       "                                 Legwear         5\n",
       "                                 Lounge         35\n",
       "                                 Sleep          14\n",
       "                                 Swim           23\n",
       "Name: pos_words, dtype: int64"
      ]
     },
     "execution_count": 90,
     "metadata": {},
     "output_type": "execute_result"
    }
   ],
   "source": [
    "df_popular_reviews.groupby(['division_name', 'department_name', 'class_name']).pos_words.count()"
   ]
  },
  {
   "cell_type": "code",
   "execution_count": null,
   "metadata": {},
   "outputs": [],
   "source": []
  },
  {
   "cell_type": "markdown",
   "metadata": {},
   "source": [
    "- Each set of division_name, department_name, and class_name has its own set of associated positive and negative words. These words are sorted out below"
   ]
  },
  {
   "cell_type": "code",
   "execution_count": 91,
   "metadata": {},
   "outputs": [],
   "source": [
    "def get_pos_neg_words(div, dept, class_):\n",
    "    div = div.title()\n",
    "    dept = dept.title()\n",
    "    class_ = class_.title()\n",
    "    \n",
    "    frame = df_popular_reviews[(df_popular_reviews.division_name == div) & (df_popular_reviews.department_name == dept) & (df_popular_reviews.class_name == class_)]\n",
    "    \n",
    "    pos_list_of_lists = ['' if type(i) == float else i for i in frame.pos_words]\n",
    "    all_pos = list(set([i for j in pos_list_of_lists for i in j]))\n",
    "    neg_list_of_lists = ['' if type(i) == float else i for i in frame.neg_words]\n",
    "    all_neg = list(set([i for j in neg_list_of_lists for i in j]))\n",
    "    \n",
    "    return all_pos, all_neg"
   ]
  },
  {
   "cell_type": "code",
   "execution_count": 92,
   "metadata": {},
   "outputs": [
    {
     "name": "stdout",
     "output_type": "stream",
     "text": [
      "Category -  initmates intimate swim \n",
      "\n",
      "\n",
      "positive -  ['slight', 'day', 'buy', 'comfort', 'thing', 'worn', 'stretch', 'recommend', 'regular', 'hit', 'print', 'went'] \n",
      "\n",
      "Missing positive -  ['fit perfect', 'casual', 'true size', 'weight', 'usual size', 'tts', 'knee', 'jacket'] \n",
      "\n",
      "\n",
      "negative -  ['hope', 'felt', 'thought', 'receiv', 'expect'] \n",
      "\n",
      "Missing negative -  ['disappoint']\n"
     ]
    }
   ],
   "source": [
    "div = \"initmates\"\n",
    "dept = \"intimate\"\n",
    "class_ = \"swim\"\n",
    "\n",
    "pos, neg = get_pos_neg_words(div, dept, class_)\n",
    "print(\"Category - \", div, dept, class_, \"\\n\\n\")\n",
    "print(\"positive - \", pos, \"\\n\")\n",
    "print(\"Missing positive - \", list(set(significant_pos_words) - set(pos)), '\\n\\n')\n",
    "print(\"negative - \", neg, '\\n')\n",
    "print(\"Missing negative - \", list(set(significant_neg_words) - set(neg)))"
   ]
  },
  {
   "cell_type": "code",
   "execution_count": null,
   "metadata": {},
   "outputs": [],
   "source": []
  },
  {
   "cell_type": "markdown",
   "metadata": {},
   "source": [
    "- Potential improvements can be derived for each category (division_name, department_name, class_name) from the customer reviews. For example, the \"initmates intimate swim\" category doesn't have either the \"tts\" (\"true-to-size\") or \"true size\" positives. This may indicate that shoppers would feel more positively about those products if they were more similar to the pictures of the products shown, or if there was a better way to get a feel for the size of the product before purchasing. There may also be an opportunity to determine what \"casual\" swimwear might look like and add a product that fits that description."
   ]
  },
  {
   "cell_type": "markdown",
   "metadata": {},
   "source": [
    "# Conclusions:\n",
    "- negative reviews are fairly balanced across departments, with bottoms having 5% fewer negative reviews than the other departments\n",
    "- there is language that is significantly more present in positive reviews than in negative reviews, and vice-versa\n",
    "- this language can be used to determine \"recommendations\" for what could be improved for each category of division, department, and class\n",
    "\n",
    "## Potential Next Steps:\n",
    "- order recommendations based on the number of occurrences, so very frequent positive words are weighted more heavily than a positive word mentioned only once\n",
    "- find language differences between reviews with high feedback and those with fewer likes and see if it's possible to predict or approximate the positive_feedback_count based on the language used\n",
    "- cluster to see if there are any meaningful groups of reviews"
   ]
  },
  {
   "cell_type": "code",
   "execution_count": null,
   "metadata": {},
   "outputs": [],
   "source": []
  }
 ],
 "metadata": {
  "kernelspec": {
   "display_name": "Python 3",
   "language": "python",
   "name": "python3"
  },
  "language_info": {
   "codemirror_mode": {
    "name": "ipython",
    "version": 3
   },
   "file_extension": ".py",
   "mimetype": "text/x-python",
   "name": "python",
   "nbconvert_exporter": "python",
   "pygments_lexer": "ipython3",
   "version": "3.8.3"
  }
 },
 "nbformat": 4,
 "nbformat_minor": 4
}
